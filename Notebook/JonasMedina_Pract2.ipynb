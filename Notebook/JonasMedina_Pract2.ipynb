{
 "cells": [
  {
   "cell_type": "markdown",
   "id": "aa302e3a-a1d3-4363-b430-e5ad96c3014b",
   "metadata": {},
   "source": [
    "# Práctica II"
   ]
  },
  {
   "cell_type": "markdown",
   "id": "86d1008e-ce8c-46ea-8351-2e8669dd0e7c",
   "metadata": {},
   "source": [
    "## Obtención de los datos"
   ]
  },
  {
   "cell_type": "markdown",
   "id": "dde5d0aa-fc8a-474a-be3b-d43f880afe4a",
   "metadata": {},
   "source": [
    "### Funciones de utilidad"
   ]
  },
  {
   "cell_type": "markdown",
   "id": "88cea510-ac50-4a57-98e4-fdce03b2a053",
   "metadata": {},
   "source": [
    "Importación de las librerías necesarias"
   ]
  },
  {
   "cell_type": "code",
   "execution_count": 213,
   "id": "97025d38-7a40-41c9-8c2e-d25f6db1de07",
   "metadata": {},
   "outputs": [],
   "source": [
    "import seaborn as sns\n",
    "import pandas as pd\n",
    "import numpy as np\n",
    "from scipy import stats\n",
    "from scipy.stats import pearsonr\n",
    "from scipy.stats import levene\n",
    "import matplotlib.pyplot as plt\n",
    "import statsmodels.api as sm\n",
    "from scipy.stats import shapiro\n",
    "from scipy.stats import bartlett\n",
    "from scipy.stats import norm\n",
    "\n",
    "\n",
    "\n",
    "from sklearn.linear_model import LinearRegression\n",
    "from sklearn.model_selection import train_test_split\n",
    "from sklearn.metrics import r2_score\n",
    "from sklearn.metrics import mean_squared_error"
   ]
  },
  {
   "cell_type": "markdown",
   "id": "9fd56f0c-108e-495b-a7f6-b3a2da3edd46",
   "metadata": {},
   "source": [
    "Función **`export_dataframe`** que permite exportar el dataframe a fichero CSV"
   ]
  },
  {
   "cell_type": "code",
   "execution_count": 214,
   "id": "8a20600f-56ee-47fa-a370-d0e4ba47088b",
   "metadata": {},
   "outputs": [],
   "source": [
    "def export_dataframe( df, file_name, directory ):\n",
    "    file = 'C:\\Python_Projects\\TipologiaYCicloDeVidaDelDato\\Data\\%s/%s.csv' % (directory, file_name )\n",
    "    #file = '/home/jovyan/work/%s/%s.csv' % (directory, file_name )\n",
    "    df.to_csv(file )    \n",
    "    "
   ]
  },
  {
   "cell_type": "code",
   "execution_count": 215,
   "id": "8857c47c-974f-4625-96a9-f679943da11f",
   "metadata": {},
   "outputs": [],
   "source": [
    "def read_dataframe( file_name, directory ):\n",
    "    file = 'C:\\Python_Projects\\TipologiaYCicloDeVidaDelDato\\Data\\%s/%s.csv' % (directory, file_name )\n",
    "    #file = '/home/jovyan/work/%s/%s.csv' % (directory, file_name )\n",
    "    return pd.read_csv(file )\n",
    "    "
   ]
  },
  {
   "cell_type": "code",
   "execution_count": 216,
   "id": "6cfaaaa5-5082-4c04-aec9-93352e73ae7b",
   "metadata": {},
   "outputs": [],
   "source": [
    "def read_subdataframe( file_name ):\n",
    "    return read_dataframe( \n",
    "        file_name = file_name,\n",
    "        directory = 'subdataset' \n",
    "    ).iloc[ : , 1:]"
   ]
  },
  {
   "cell_type": "markdown",
   "id": "f3b8df46-a6e4-4b22-9b6f-a7f4da8a6b1c",
   "metadata": {
    "tags": []
   },
   "source": [
    "### _DATASET I_: Precio de Gas doméstico en € por kw/h\n",
    "\n",
    "Obtención de los datos del subdataset de los precios del gas doméstico: `data_gas_prices_household_consumers.csv`"
   ]
  },
  {
   "cell_type": "markdown",
   "id": "f83c4c56-3467-46a9-91a4-4e04d839e358",
   "metadata": {},
   "source": [
    "Importación del subdataframe"
   ]
  },
  {
   "cell_type": "code",
   "execution_count": 217,
   "id": "4d987e1b-f6ad-407a-856d-ad63cd68ab15",
   "metadata": {},
   "outputs": [],
   "source": [
    "data_gas_prices_household_consumers = read_subdataframe(\n",
    "    file_name = 'data_gas_prices_household_consumers'\n",
    ")"
   ]
  },
  {
   "cell_type": "markdown",
   "id": "5a350de2-4df0-4e1b-8447-9227bc66c5ce",
   "metadata": {},
   "source": [
    "Columnas del dataset:"
   ]
  },
  {
   "cell_type": "code",
   "execution_count": 218,
   "id": "ad8f65ca-56fa-43c3-9f4c-2929e2088f98",
   "metadata": {},
   "outputs": [
    {
     "data": {
      "text/plain": [
       "country          object\n",
       "country_name     object\n",
       "2017            float64\n",
       "2018            float64\n",
       "2019            float64\n",
       "2020            float64\n",
       "2021            float64\n",
       "dtype: object"
      ]
     },
     "metadata": {},
     "output_type": "display_data"
    }
   ],
   "source": [
    "display( data_gas_prices_household_consumers.dtypes )"
   ]
  },
  {
   "cell_type": "markdown",
   "id": "47339e34-646d-4454-8b89-cf15125dacde",
   "metadata": {},
   "source": [
    "Se muestran los 10 primeros valores:"
   ]
  },
  {
   "cell_type": "code",
   "execution_count": 219,
   "id": "220ae3c9-c4bc-41b2-a279-da9784849327",
   "metadata": {},
   "outputs": [
    {
     "data": {
      "text/html": [
       "<div>\n",
       "<style scoped>\n",
       "    .dataframe tbody tr th:only-of-type {\n",
       "        vertical-align: middle;\n",
       "    }\n",
       "\n",
       "    .dataframe tbody tr th {\n",
       "        vertical-align: top;\n",
       "    }\n",
       "\n",
       "    .dataframe thead th {\n",
       "        text-align: right;\n",
       "    }\n",
       "</style>\n",
       "<table border=\"1\" class=\"dataframe\">\n",
       "  <thead>\n",
       "    <tr style=\"text-align: right;\">\n",
       "      <th></th>\n",
       "      <th>country</th>\n",
       "      <th>country_name</th>\n",
       "      <th>2017</th>\n",
       "      <th>2018</th>\n",
       "      <th>2019</th>\n",
       "      <th>2020</th>\n",
       "      <th>2021</th>\n",
       "    </tr>\n",
       "  </thead>\n",
       "  <tbody>\n",
       "    <tr>\n",
       "      <th>0</th>\n",
       "      <td>AT</td>\n",
       "      <td>Austria</td>\n",
       "      <td>0.0299</td>\n",
       "      <td>0.0304</td>\n",
       "      <td>0.0312</td>\n",
       "      <td>0.0308</td>\n",
       "      <td>0.0316</td>\n",
       "    </tr>\n",
       "    <tr>\n",
       "      <th>1</th>\n",
       "      <td>BA</td>\n",
       "      <td>Bosnia and Herzegovina</td>\n",
       "      <td>0.0240</td>\n",
       "      <td>0.0240</td>\n",
       "      <td>0.0249</td>\n",
       "      <td>0.0258</td>\n",
       "      <td>0.0251</td>\n",
       "    </tr>\n",
       "    <tr>\n",
       "      <th>2</th>\n",
       "      <td>BE</td>\n",
       "      <td>Belgium</td>\n",
       "      <td>0.0283</td>\n",
       "      <td>0.0288</td>\n",
       "      <td>0.0289</td>\n",
       "      <td>0.0252</td>\n",
       "      <td>0.0315</td>\n",
       "    </tr>\n",
       "    <tr>\n",
       "      <th>3</th>\n",
       "      <td>BG</td>\n",
       "      <td>Bulgaria</td>\n",
       "      <td>0.0170</td>\n",
       "      <td>0.0209</td>\n",
       "      <td>0.0240</td>\n",
       "      <td>0.0177</td>\n",
       "      <td>0.0331</td>\n",
       "    </tr>\n",
       "    <tr>\n",
       "      <th>4</th>\n",
       "      <td>CZ</td>\n",
       "      <td>Czechia</td>\n",
       "      <td>0.0360</td>\n",
       "      <td>0.0390</td>\n",
       "      <td>0.0455</td>\n",
       "      <td>0.0431</td>\n",
       "      <td>0.0448</td>\n",
       "    </tr>\n",
       "    <tr>\n",
       "      <th>5</th>\n",
       "      <td>DE</td>\n",
       "      <td>Germany (until 1990 former territory of the FRG)</td>\n",
       "      <td>NaN</td>\n",
       "      <td>NaN</td>\n",
       "      <td>0.0278</td>\n",
       "      <td>0.0292</td>\n",
       "      <td>0.0293</td>\n",
       "    </tr>\n",
       "    <tr>\n",
       "      <th>6</th>\n",
       "      <td>DK</td>\n",
       "      <td>Denmark</td>\n",
       "      <td>0.0234</td>\n",
       "      <td>0.0259</td>\n",
       "      <td>0.0209</td>\n",
       "      <td>0.0160</td>\n",
       "      <td>0.0415</td>\n",
       "    </tr>\n",
       "    <tr>\n",
       "      <th>7</th>\n",
       "      <td>EA</td>\n",
       "      <td>Euro area (EA11-1999, EA12-2001, EA13-2007, EA...</td>\n",
       "      <td>0.0295</td>\n",
       "      <td>0.0303</td>\n",
       "      <td>0.0319</td>\n",
       "      <td>0.0302</td>\n",
       "      <td>0.0315</td>\n",
       "    </tr>\n",
       "    <tr>\n",
       "      <th>8</th>\n",
       "      <td>EE</td>\n",
       "      <td>Estonia</td>\n",
       "      <td>0.0234</td>\n",
       "      <td>0.0239</td>\n",
       "      <td>0.0253</td>\n",
       "      <td>0.0240</td>\n",
       "      <td>0.0361</td>\n",
       "    </tr>\n",
       "    <tr>\n",
       "      <th>9</th>\n",
       "      <td>EL</td>\n",
       "      <td>Greece</td>\n",
       "      <td>NaN</td>\n",
       "      <td>0.0311</td>\n",
       "      <td>0.0338</td>\n",
       "      <td>0.0258</td>\n",
       "      <td>0.0444</td>\n",
       "    </tr>\n",
       "  </tbody>\n",
       "</table>\n",
       "</div>"
      ],
      "text/plain": [
       "  country                                       country_name    2017    2018  \\\n",
       "0      AT                                            Austria  0.0299  0.0304   \n",
       "1      BA                             Bosnia and Herzegovina  0.0240  0.0240   \n",
       "2      BE                                            Belgium  0.0283  0.0288   \n",
       "3      BG                                           Bulgaria  0.0170  0.0209   \n",
       "4      CZ                                            Czechia  0.0360  0.0390   \n",
       "5      DE   Germany (until 1990 former territory of the FRG)     NaN     NaN   \n",
       "6      DK                                            Denmark  0.0234  0.0259   \n",
       "7      EA  Euro area (EA11-1999, EA12-2001, EA13-2007, EA...  0.0295  0.0303   \n",
       "8      EE                                            Estonia  0.0234  0.0239   \n",
       "9      EL                                             Greece     NaN  0.0311   \n",
       "\n",
       "     2019    2020    2021  \n",
       "0  0.0312  0.0308  0.0316  \n",
       "1  0.0249  0.0258  0.0251  \n",
       "2  0.0289  0.0252  0.0315  \n",
       "3  0.0240  0.0177  0.0331  \n",
       "4  0.0455  0.0431  0.0448  \n",
       "5  0.0278  0.0292  0.0293  \n",
       "6  0.0209  0.0160  0.0415  \n",
       "7  0.0319  0.0302  0.0315  \n",
       "8  0.0253  0.0240  0.0361  \n",
       "9  0.0338  0.0258  0.0444  "
      ]
     },
     "execution_count": 219,
     "metadata": {},
     "output_type": "execute_result"
    }
   ],
   "source": [
    "data_gas_prices_household_consumers.head( 10 )"
   ]
  },
  {
   "cell_type": "markdown",
   "id": "1d3f844c-14b1-415a-9244-223d4380ebfd",
   "metadata": {
    "tags": []
   },
   "source": [
    "### _DATASET II_: Precio de Gas no doméstico en € por kw/h\n",
    "\n",
    "Obtención de los datos del subdataset de los precios del gas no doméstico: `data_gas_prices_no_household_consumers.csv`"
   ]
  },
  {
   "cell_type": "markdown",
   "id": "85d344f4-d047-4848-b4f1-9550f7070a81",
   "metadata": {},
   "source": [
    "Importación del subdataframe"
   ]
  },
  {
   "cell_type": "code",
   "execution_count": 220,
   "id": "f8916245-7df8-4420-a7e8-15658dcd3ea2",
   "metadata": {},
   "outputs": [],
   "source": [
    "data_gas_prices_no_household_consumers = read_subdataframe(\n",
    "    file_name = 'data_gas_prices_no_household_consumers'\n",
    ")"
   ]
  },
  {
   "cell_type": "markdown",
   "id": "2e54d790-40a9-4dcc-a27f-79e7a4d9fd86",
   "metadata": {},
   "source": [
    "Columnas del dataset:"
   ]
  },
  {
   "cell_type": "code",
   "execution_count": 221,
   "id": "30899333-ecca-46fb-aca4-e80635f19792",
   "metadata": {},
   "outputs": [
    {
     "data": {
      "text/plain": [
       "country          object\n",
       "country_name     object\n",
       "2017            float64\n",
       "2018            float64\n",
       "2019            float64\n",
       "2020            float64\n",
       "2021            float64\n",
       "dtype: object"
      ]
     },
     "metadata": {},
     "output_type": "display_data"
    }
   ],
   "source": [
    "display( data_gas_prices_no_household_consumers.dtypes )"
   ]
  },
  {
   "cell_type": "markdown",
   "id": "aaf54e7e-37a1-4605-9822-36edcd0619c3",
   "metadata": {},
   "source": [
    "Se muestran los 10 primeros valores:"
   ]
  },
  {
   "cell_type": "code",
   "execution_count": 222,
   "id": "8866b95c-3630-4882-bbb0-670c78068f11",
   "metadata": {
    "tags": []
   },
   "outputs": [
    {
     "data": {
      "text/html": [
       "<div>\n",
       "<style scoped>\n",
       "    .dataframe tbody tr th:only-of-type {\n",
       "        vertical-align: middle;\n",
       "    }\n",
       "\n",
       "    .dataframe tbody tr th {\n",
       "        vertical-align: top;\n",
       "    }\n",
       "\n",
       "    .dataframe thead th {\n",
       "        text-align: right;\n",
       "    }\n",
       "</style>\n",
       "<table border=\"1\" class=\"dataframe\">\n",
       "  <thead>\n",
       "    <tr style=\"text-align: right;\">\n",
       "      <th></th>\n",
       "      <th>country</th>\n",
       "      <th>country_name</th>\n",
       "      <th>2017</th>\n",
       "      <th>2018</th>\n",
       "      <th>2019</th>\n",
       "      <th>2020</th>\n",
       "      <th>2021</th>\n",
       "    </tr>\n",
       "  </thead>\n",
       "  <tbody>\n",
       "    <tr>\n",
       "      <th>0</th>\n",
       "      <td>AT</td>\n",
       "      <td>Austria</td>\n",
       "      <td>NaN</td>\n",
       "      <td>NaN</td>\n",
       "      <td>0.0184</td>\n",
       "      <td>0.0168</td>\n",
       "      <td>0.0297</td>\n",
       "    </tr>\n",
       "    <tr>\n",
       "      <th>1</th>\n",
       "      <td>BA</td>\n",
       "      <td>Bosnia and Herzegovina</td>\n",
       "      <td>NaN</td>\n",
       "      <td>NaN</td>\n",
       "      <td>0.0257</td>\n",
       "      <td>0.0259</td>\n",
       "      <td>0.0248</td>\n",
       "    </tr>\n",
       "    <tr>\n",
       "      <th>2</th>\n",
       "      <td>BE</td>\n",
       "      <td>Belgium</td>\n",
       "      <td>NaN</td>\n",
       "      <td>NaN</td>\n",
       "      <td>0.0189</td>\n",
       "      <td>0.0148</td>\n",
       "      <td>0.0318</td>\n",
       "    </tr>\n",
       "    <tr>\n",
       "      <th>3</th>\n",
       "      <td>BG</td>\n",
       "      <td>Bulgaria</td>\n",
       "      <td>NaN</td>\n",
       "      <td>NaN</td>\n",
       "      <td>0.0213</td>\n",
       "      <td>0.0142</td>\n",
       "      <td>0.0299</td>\n",
       "    </tr>\n",
       "    <tr>\n",
       "      <th>4</th>\n",
       "      <td>CZ</td>\n",
       "      <td>Czechia</td>\n",
       "      <td>NaN</td>\n",
       "      <td>NaN</td>\n",
       "      <td>0.0226</td>\n",
       "      <td>0.0192</td>\n",
       "      <td>0.0259</td>\n",
       "    </tr>\n",
       "    <tr>\n",
       "      <th>5</th>\n",
       "      <td>DE</td>\n",
       "      <td>Germany (until 1990 former territory of the FRG)</td>\n",
       "      <td>NaN</td>\n",
       "      <td>NaN</td>\n",
       "      <td>0.0196</td>\n",
       "      <td>0.0171</td>\n",
       "      <td>0.0262</td>\n",
       "    </tr>\n",
       "    <tr>\n",
       "      <th>6</th>\n",
       "      <td>DK</td>\n",
       "      <td>Denmark</td>\n",
       "      <td>0.0194</td>\n",
       "      <td>0.0234</td>\n",
       "      <td>0.0178</td>\n",
       "      <td>0.0137</td>\n",
       "      <td>0.0448</td>\n",
       "    </tr>\n",
       "    <tr>\n",
       "      <th>7</th>\n",
       "      <td>EA</td>\n",
       "      <td>Euro area (EA11-1999, EA12-2001, EA13-2007, EA...</td>\n",
       "      <td>0.0220</td>\n",
       "      <td>0.0240</td>\n",
       "      <td>0.0211</td>\n",
       "      <td>0.0175</td>\n",
       "      <td>0.0278</td>\n",
       "    </tr>\n",
       "    <tr>\n",
       "      <th>8</th>\n",
       "      <td>EE</td>\n",
       "      <td>Estonia</td>\n",
       "      <td>NaN</td>\n",
       "      <td>NaN</td>\n",
       "      <td>0.0213</td>\n",
       "      <td>0.0155</td>\n",
       "      <td>0.0352</td>\n",
       "    </tr>\n",
       "    <tr>\n",
       "      <th>9</th>\n",
       "      <td>EL</td>\n",
       "      <td>Greece</td>\n",
       "      <td>NaN</td>\n",
       "      <td>NaN</td>\n",
       "      <td>0.0260</td>\n",
       "      <td>0.0165</td>\n",
       "      <td>0.0337</td>\n",
       "    </tr>\n",
       "  </tbody>\n",
       "</table>\n",
       "</div>"
      ],
      "text/plain": [
       "  country                                       country_name    2017    2018  \\\n",
       "0      AT                                            Austria     NaN     NaN   \n",
       "1      BA                             Bosnia and Herzegovina     NaN     NaN   \n",
       "2      BE                                            Belgium     NaN     NaN   \n",
       "3      BG                                           Bulgaria     NaN     NaN   \n",
       "4      CZ                                            Czechia     NaN     NaN   \n",
       "5      DE   Germany (until 1990 former territory of the FRG)     NaN     NaN   \n",
       "6      DK                                            Denmark  0.0194  0.0234   \n",
       "7      EA  Euro area (EA11-1999, EA12-2001, EA13-2007, EA...  0.0220  0.0240   \n",
       "8      EE                                            Estonia     NaN     NaN   \n",
       "9      EL                                             Greece     NaN     NaN   \n",
       "\n",
       "     2019    2020    2021  \n",
       "0  0.0184  0.0168  0.0297  \n",
       "1  0.0257  0.0259  0.0248  \n",
       "2  0.0189  0.0148  0.0318  \n",
       "3  0.0213  0.0142  0.0299  \n",
       "4  0.0226  0.0192  0.0259  \n",
       "5  0.0196  0.0171  0.0262  \n",
       "6  0.0178  0.0137  0.0448  \n",
       "7  0.0211  0.0175  0.0278  \n",
       "8  0.0213  0.0155  0.0352  \n",
       "9  0.0260  0.0165  0.0337  "
      ]
     },
     "execution_count": 222,
     "metadata": {},
     "output_type": "execute_result"
    }
   ],
   "source": [
    "data_gas_prices_no_household_consumers.head( 10 )"
   ]
  },
  {
   "cell_type": "markdown",
   "id": "816fc333-0986-45bf-b116-d78a8799bb67",
   "metadata": {
    "tags": []
   },
   "source": [
    "### _DATASET III_: Precio de la electricidad doméstica para la franja de 2.500 a 4.999 kWh\n",
    "\n",
    "Obtención de los datos del subdataset del precio de la electricidad doméstica para la franja de 2.500 a 4.999 kWh `data_electricity_prices_household_consumers.csv`\n"
   ]
  },
  {
   "cell_type": "markdown",
   "id": "b260f3e9-e81e-4dae-9a45-acfac1667a65",
   "metadata": {},
   "source": [
    "Importación del subdataframe"
   ]
  },
  {
   "cell_type": "code",
   "execution_count": 223,
   "id": "7eb66b98-ae6f-4be6-ab85-3fa35a4bb8b0",
   "metadata": {},
   "outputs": [],
   "source": [
    "data_electricity_prices_household_consumers = read_subdataframe(\n",
    "    file_name = 'data_electricity_prices_household_consumers'\n",
    ")"
   ]
  },
  {
   "cell_type": "markdown",
   "id": "a00a3802-d878-4f24-8d41-5a7034bc1326",
   "metadata": {},
   "source": [
    "Columnas del dataset:"
   ]
  },
  {
   "cell_type": "code",
   "execution_count": 224,
   "id": "bfe6451b-2738-48fb-92c1-106d929ff8ff",
   "metadata": {},
   "outputs": [
    {
     "data": {
      "text/plain": [
       "country          object\n",
       "country_name     object\n",
       "2012-S2         float64\n",
       "2013-S2         float64\n",
       "2014-S2         float64\n",
       "2015-S2         float64\n",
       "2016-S2         float64\n",
       "2017            float64\n",
       "2018            float64\n",
       "2019            float64\n",
       "2020            float64\n",
       "2021            float64\n",
       "dtype: object"
      ]
     },
     "metadata": {},
     "output_type": "display_data"
    }
   ],
   "source": [
    "display( data_electricity_prices_household_consumers.dtypes )"
   ]
  },
  {
   "cell_type": "markdown",
   "id": "5ad87b51-3aba-46c0-bd1f-2c8235bb7085",
   "metadata": {},
   "source": [
    "Se muestran los 10 primeros valores:"
   ]
  },
  {
   "cell_type": "code",
   "execution_count": 225,
   "id": "5b5acd6e-6fea-4ff1-96ee-fdfda02f1544",
   "metadata": {},
   "outputs": [
    {
     "data": {
      "text/html": [
       "<div>\n",
       "<style scoped>\n",
       "    .dataframe tbody tr th:only-of-type {\n",
       "        vertical-align: middle;\n",
       "    }\n",
       "\n",
       "    .dataframe tbody tr th {\n",
       "        vertical-align: top;\n",
       "    }\n",
       "\n",
       "    .dataframe thead th {\n",
       "        text-align: right;\n",
       "    }\n",
       "</style>\n",
       "<table border=\"1\" class=\"dataframe\">\n",
       "  <thead>\n",
       "    <tr style=\"text-align: right;\">\n",
       "      <th></th>\n",
       "      <th>country</th>\n",
       "      <th>country_name</th>\n",
       "      <th>2012-S2</th>\n",
       "      <th>2013-S2</th>\n",
       "      <th>2014-S2</th>\n",
       "      <th>2015-S2</th>\n",
       "      <th>2016-S2</th>\n",
       "      <th>2017</th>\n",
       "      <th>2018</th>\n",
       "      <th>2019</th>\n",
       "      <th>2020</th>\n",
       "      <th>2021</th>\n",
       "    </tr>\n",
       "  </thead>\n",
       "  <tbody>\n",
       "    <tr>\n",
       "      <th>0</th>\n",
       "      <td>AL</td>\n",
       "      <td>Albania</td>\n",
       "      <td>NaN</td>\n",
       "      <td>NaN</td>\n",
       "      <td>NaN</td>\n",
       "      <td>NaN</td>\n",
       "      <td>NaN</td>\n",
       "      <td>0.0713</td>\n",
       "      <td>0.0759</td>\n",
       "      <td>0.0778</td>\n",
       "      <td>NaN</td>\n",
       "      <td>0.0781</td>\n",
       "    </tr>\n",
       "    <tr>\n",
       "      <th>1</th>\n",
       "      <td>AT</td>\n",
       "      <td>Austria</td>\n",
       "      <td>NaN</td>\n",
       "      <td>NaN</td>\n",
       "      <td>NaN</td>\n",
       "      <td>NaN</td>\n",
       "      <td>NaN</td>\n",
       "      <td>0.0613</td>\n",
       "      <td>0.0623</td>\n",
       "      <td>0.0687</td>\n",
       "      <td>0.0732</td>\n",
       "      <td>0.0745</td>\n",
       "    </tr>\n",
       "    <tr>\n",
       "      <th>2</th>\n",
       "      <td>BA</td>\n",
       "      <td>Bosnia and Herzegovina</td>\n",
       "      <td>NaN</td>\n",
       "      <td>NaN</td>\n",
       "      <td>NaN</td>\n",
       "      <td>NaN</td>\n",
       "      <td>NaN</td>\n",
       "      <td>0.0342</td>\n",
       "      <td>0.0338</td>\n",
       "      <td>0.0361</td>\n",
       "      <td>0.0365</td>\n",
       "      <td>NaN</td>\n",
       "    </tr>\n",
       "    <tr>\n",
       "      <th>3</th>\n",
       "      <td>BE</td>\n",
       "      <td>Belgium</td>\n",
       "      <td>NaN</td>\n",
       "      <td>NaN</td>\n",
       "      <td>NaN</td>\n",
       "      <td>NaN</td>\n",
       "      <td>NaN</td>\n",
       "      <td>0.0735</td>\n",
       "      <td>0.0808</td>\n",
       "      <td>0.0859</td>\n",
       "      <td>0.0786</td>\n",
       "      <td>0.0844</td>\n",
       "    </tr>\n",
       "    <tr>\n",
       "      <th>4</th>\n",
       "      <td>BG</td>\n",
       "      <td>Bulgaria</td>\n",
       "      <td>NaN</td>\n",
       "      <td>NaN</td>\n",
       "      <td>NaN</td>\n",
       "      <td>NaN</td>\n",
       "      <td>NaN</td>\n",
       "      <td>0.0575</td>\n",
       "      <td>0.0585</td>\n",
       "      <td>0.0558</td>\n",
       "      <td>0.0560</td>\n",
       "      <td>0.0608</td>\n",
       "    </tr>\n",
       "    <tr>\n",
       "      <th>5</th>\n",
       "      <td>CY</td>\n",
       "      <td>Cyprus</td>\n",
       "      <td>NaN</td>\n",
       "      <td>NaN</td>\n",
       "      <td>NaN</td>\n",
       "      <td>NaN</td>\n",
       "      <td>NaN</td>\n",
       "      <td>0.1036</td>\n",
       "      <td>0.1157</td>\n",
       "      <td>0.1241</td>\n",
       "      <td>0.1042</td>\n",
       "      <td>0.1094</td>\n",
       "    </tr>\n",
       "    <tr>\n",
       "      <th>6</th>\n",
       "      <td>CZ</td>\n",
       "      <td>Czechia</td>\n",
       "      <td>NaN</td>\n",
       "      <td>NaN</td>\n",
       "      <td>NaN</td>\n",
       "      <td>NaN</td>\n",
       "      <td>NaN</td>\n",
       "      <td>0.0541</td>\n",
       "      <td>0.0570</td>\n",
       "      <td>0.0690</td>\n",
       "      <td>0.0749</td>\n",
       "      <td>0.0979</td>\n",
       "    </tr>\n",
       "    <tr>\n",
       "      <th>7</th>\n",
       "      <td>DE</td>\n",
       "      <td>Germany (until 1990 former territory of the FRG)</td>\n",
       "      <td>NaN</td>\n",
       "      <td>NaN</td>\n",
       "      <td>NaN</td>\n",
       "      <td>NaN</td>\n",
       "      <td>NaN</td>\n",
       "      <td>0.0686</td>\n",
       "      <td>0.0622</td>\n",
       "      <td>0.0581</td>\n",
       "      <td>0.0574</td>\n",
       "      <td>0.0803</td>\n",
       "    </tr>\n",
       "    <tr>\n",
       "      <th>8</th>\n",
       "      <td>DK</td>\n",
       "      <td>Denmark</td>\n",
       "      <td>NaN</td>\n",
       "      <td>NaN</td>\n",
       "      <td>NaN</td>\n",
       "      <td>NaN</td>\n",
       "      <td>NaN</td>\n",
       "      <td>0.0388</td>\n",
       "      <td>0.0503</td>\n",
       "      <td>0.0539</td>\n",
       "      <td>0.0409</td>\n",
       "      <td>0.0747</td>\n",
       "    </tr>\n",
       "    <tr>\n",
       "      <th>9</th>\n",
       "      <td>EA</td>\n",
       "      <td>Euro area (EA11-1999, EA12-2001, EA13-2007, EA...</td>\n",
       "      <td>NaN</td>\n",
       "      <td>NaN</td>\n",
       "      <td>NaN</td>\n",
       "      <td>NaN</td>\n",
       "      <td>NaN</td>\n",
       "      <td>0.0760</td>\n",
       "      <td>0.0801</td>\n",
       "      <td>0.0727</td>\n",
       "      <td>0.0697</td>\n",
       "      <td>0.0898</td>\n",
       "    </tr>\n",
       "  </tbody>\n",
       "</table>\n",
       "</div>"
      ],
      "text/plain": [
       "  country                                       country_name  2012-S2  \\\n",
       "0      AL                                            Albania      NaN   \n",
       "1      AT                                            Austria      NaN   \n",
       "2      BA                             Bosnia and Herzegovina      NaN   \n",
       "3      BE                                            Belgium      NaN   \n",
       "4      BG                                           Bulgaria      NaN   \n",
       "5      CY                                             Cyprus      NaN   \n",
       "6      CZ                                            Czechia      NaN   \n",
       "7      DE   Germany (until 1990 former territory of the FRG)      NaN   \n",
       "8      DK                                            Denmark      NaN   \n",
       "9      EA  Euro area (EA11-1999, EA12-2001, EA13-2007, EA...      NaN   \n",
       "\n",
       "   2013-S2  2014-S2  2015-S2  2016-S2    2017    2018    2019    2020    2021  \n",
       "0      NaN      NaN      NaN      NaN  0.0713  0.0759  0.0778     NaN  0.0781  \n",
       "1      NaN      NaN      NaN      NaN  0.0613  0.0623  0.0687  0.0732  0.0745  \n",
       "2      NaN      NaN      NaN      NaN  0.0342  0.0338  0.0361  0.0365     NaN  \n",
       "3      NaN      NaN      NaN      NaN  0.0735  0.0808  0.0859  0.0786  0.0844  \n",
       "4      NaN      NaN      NaN      NaN  0.0575  0.0585  0.0558  0.0560  0.0608  \n",
       "5      NaN      NaN      NaN      NaN  0.1036  0.1157  0.1241  0.1042  0.1094  \n",
       "6      NaN      NaN      NaN      NaN  0.0541  0.0570  0.0690  0.0749  0.0979  \n",
       "7      NaN      NaN      NaN      NaN  0.0686  0.0622  0.0581  0.0574  0.0803  \n",
       "8      NaN      NaN      NaN      NaN  0.0388  0.0503  0.0539  0.0409  0.0747  \n",
       "9      NaN      NaN      NaN      NaN  0.0760  0.0801  0.0727  0.0697  0.0898  "
      ]
     },
     "execution_count": 225,
     "metadata": {},
     "output_type": "execute_result"
    }
   ],
   "source": [
    "data_electricity_prices_household_consumers.head(10)"
   ]
  },
  {
   "cell_type": "markdown",
   "id": "4e123d2f-31b5-450d-a57a-715180972605",
   "metadata": {
    "tags": []
   },
   "source": [
    "### _DATASET IV_: Precio de la electricidad no doméstica\n",
    "\n",
    "OObtención de los datos del subdataset del precio de la electricidad no doméstica `data_electricity_prices_no_household_consumers.csv`"
   ]
  },
  {
   "cell_type": "markdown",
   "id": "f5183f9e-1f01-4806-adcc-f44642524158",
   "metadata": {},
   "source": [
    "Importación del subdataframe"
   ]
  },
  {
   "cell_type": "code",
   "execution_count": 226,
   "id": "93677943-0c5a-4e32-b48a-ad61537184f8",
   "metadata": {},
   "outputs": [],
   "source": [
    "data_electricity_prices_no_household_consumers = read_subdataframe(\n",
    "    file_name = 'data_electricity_prices_no_household_consumers'\n",
    ")"
   ]
  },
  {
   "cell_type": "markdown",
   "id": "8784320a-4fa6-404f-b954-28f91988646f",
   "metadata": {},
   "source": [
    "Columnas del dataset:"
   ]
  },
  {
   "cell_type": "code",
   "execution_count": 227,
   "id": "0a3ff9cb-bbba-4133-9270-60375f69c9b0",
   "metadata": {},
   "outputs": [
    {
     "data": {
      "text/plain": [
       "country          object\n",
       "country_name     object\n",
       "2007-S2         float64\n",
       "2008-S2         float64\n",
       "2009-S2         float64\n",
       "2010-S2         float64\n",
       "2011-S2         float64\n",
       "2012-S2         float64\n",
       "2013-S2         float64\n",
       "2014-S2         float64\n",
       "2015-S2         float64\n",
       "2016-S2         float64\n",
       "2017            float64\n",
       "2018            float64\n",
       "2019            float64\n",
       "2020            float64\n",
       "2021            float64\n",
       "dtype: object"
      ]
     },
     "metadata": {},
     "output_type": "display_data"
    }
   ],
   "source": [
    "display( data_electricity_prices_no_household_consumers.dtypes )"
   ]
  },
  {
   "cell_type": "markdown",
   "id": "3e008031-51a4-4edb-a7fb-3a2c151446f3",
   "metadata": {},
   "source": [
    "Se muestran los 10 primeros valores:"
   ]
  },
  {
   "cell_type": "code",
   "execution_count": 228,
   "id": "7cf36e9e-5a00-48fc-8f57-1c39de51ec93",
   "metadata": {
    "tags": []
   },
   "outputs": [
    {
     "data": {
      "text/html": [
       "<div>\n",
       "<style scoped>\n",
       "    .dataframe tbody tr th:only-of-type {\n",
       "        vertical-align: middle;\n",
       "    }\n",
       "\n",
       "    .dataframe tbody tr th {\n",
       "        vertical-align: top;\n",
       "    }\n",
       "\n",
       "    .dataframe thead th {\n",
       "        text-align: right;\n",
       "    }\n",
       "</style>\n",
       "<table border=\"1\" class=\"dataframe\">\n",
       "  <thead>\n",
       "    <tr style=\"text-align: right;\">\n",
       "      <th></th>\n",
       "      <th>country</th>\n",
       "      <th>country_name</th>\n",
       "      <th>2007-S2</th>\n",
       "      <th>2008-S2</th>\n",
       "      <th>2009-S2</th>\n",
       "      <th>2010-S2</th>\n",
       "      <th>2011-S2</th>\n",
       "      <th>2012-S2</th>\n",
       "      <th>2013-S2</th>\n",
       "      <th>2014-S2</th>\n",
       "      <th>2015-S2</th>\n",
       "      <th>2016-S2</th>\n",
       "      <th>2017</th>\n",
       "      <th>2018</th>\n",
       "      <th>2019</th>\n",
       "      <th>2020</th>\n",
       "      <th>2021</th>\n",
       "    </tr>\n",
       "  </thead>\n",
       "  <tbody>\n",
       "    <tr>\n",
       "      <th>0</th>\n",
       "      <td>AT</td>\n",
       "      <td>Austria</td>\n",
       "      <td>NaN</td>\n",
       "      <td>NaN</td>\n",
       "      <td>NaN</td>\n",
       "      <td>NaN</td>\n",
       "      <td>NaN</td>\n",
       "      <td>NaN</td>\n",
       "      <td>NaN</td>\n",
       "      <td>NaN</td>\n",
       "      <td>NaN</td>\n",
       "      <td>NaN</td>\n",
       "      <td>0.0598</td>\n",
       "      <td>0.0610</td>\n",
       "      <td>0.0654</td>\n",
       "      <td>0.0702</td>\n",
       "      <td>0.0723</td>\n",
       "    </tr>\n",
       "    <tr>\n",
       "      <th>1</th>\n",
       "      <td>BA</td>\n",
       "      <td>Bosnia and Herzegovina</td>\n",
       "      <td>NaN</td>\n",
       "      <td>NaN</td>\n",
       "      <td>NaN</td>\n",
       "      <td>NaN</td>\n",
       "      <td>NaN</td>\n",
       "      <td>NaN</td>\n",
       "      <td>NaN</td>\n",
       "      <td>NaN</td>\n",
       "      <td>NaN</td>\n",
       "      <td>NaN</td>\n",
       "      <td>0.0649</td>\n",
       "      <td>0.0621</td>\n",
       "      <td>0.0624</td>\n",
       "      <td>0.0648</td>\n",
       "      <td>NaN</td>\n",
       "    </tr>\n",
       "    <tr>\n",
       "      <th>2</th>\n",
       "      <td>BE</td>\n",
       "      <td>Belgium</td>\n",
       "      <td>NaN</td>\n",
       "      <td>NaN</td>\n",
       "      <td>NaN</td>\n",
       "      <td>NaN</td>\n",
       "      <td>NaN</td>\n",
       "      <td>NaN</td>\n",
       "      <td>NaN</td>\n",
       "      <td>NaN</td>\n",
       "      <td>NaN</td>\n",
       "      <td>NaN</td>\n",
       "      <td>0.0672</td>\n",
       "      <td>0.0624</td>\n",
       "      <td>0.0663</td>\n",
       "      <td>0.0745</td>\n",
       "      <td>0.0890</td>\n",
       "    </tr>\n",
       "    <tr>\n",
       "      <th>3</th>\n",
       "      <td>BG</td>\n",
       "      <td>Bulgaria</td>\n",
       "      <td>NaN</td>\n",
       "      <td>NaN</td>\n",
       "      <td>NaN</td>\n",
       "      <td>NaN</td>\n",
       "      <td>NaN</td>\n",
       "      <td>NaN</td>\n",
       "      <td>NaN</td>\n",
       "      <td>NaN</td>\n",
       "      <td>NaN</td>\n",
       "      <td>NaN</td>\n",
       "      <td>0.0817</td>\n",
       "      <td>0.0810</td>\n",
       "      <td>0.0764</td>\n",
       "      <td>0.0730</td>\n",
       "      <td>0.1075</td>\n",
       "    </tr>\n",
       "    <tr>\n",
       "      <th>4</th>\n",
       "      <td>CY</td>\n",
       "      <td>Cyprus</td>\n",
       "      <td>NaN</td>\n",
       "      <td>NaN</td>\n",
       "      <td>NaN</td>\n",
       "      <td>NaN</td>\n",
       "      <td>NaN</td>\n",
       "      <td>NaN</td>\n",
       "      <td>NaN</td>\n",
       "      <td>NaN</td>\n",
       "      <td>NaN</td>\n",
       "      <td>NaN</td>\n",
       "      <td>0.1187</td>\n",
       "      <td>0.1240</td>\n",
       "      <td>0.1271</td>\n",
       "      <td>0.1055</td>\n",
       "      <td>0.1136</td>\n",
       "    </tr>\n",
       "    <tr>\n",
       "      <th>5</th>\n",
       "      <td>CZ</td>\n",
       "      <td>Czechia</td>\n",
       "      <td>NaN</td>\n",
       "      <td>NaN</td>\n",
       "      <td>NaN</td>\n",
       "      <td>NaN</td>\n",
       "      <td>NaN</td>\n",
       "      <td>NaN</td>\n",
       "      <td>NaN</td>\n",
       "      <td>NaN</td>\n",
       "      <td>NaN</td>\n",
       "      <td>NaN</td>\n",
       "      <td>0.0580</td>\n",
       "      <td>0.0602</td>\n",
       "      <td>0.0721</td>\n",
       "      <td>0.0811</td>\n",
       "      <td>0.0848</td>\n",
       "    </tr>\n",
       "    <tr>\n",
       "      <th>6</th>\n",
       "      <td>DE</td>\n",
       "      <td>Germany (until 1990 former territory of the FRG)</td>\n",
       "      <td>NaN</td>\n",
       "      <td>NaN</td>\n",
       "      <td>NaN</td>\n",
       "      <td>NaN</td>\n",
       "      <td>NaN</td>\n",
       "      <td>NaN</td>\n",
       "      <td>NaN</td>\n",
       "      <td>NaN</td>\n",
       "      <td>NaN</td>\n",
       "      <td>NaN</td>\n",
       "      <td>0.0468</td>\n",
       "      <td>0.0612</td>\n",
       "      <td>0.0525</td>\n",
       "      <td>0.0651</td>\n",
       "      <td>0.0707</td>\n",
       "    </tr>\n",
       "    <tr>\n",
       "      <th>7</th>\n",
       "      <td>DK</td>\n",
       "      <td>Denmark</td>\n",
       "      <td>NaN</td>\n",
       "      <td>NaN</td>\n",
       "      <td>NaN</td>\n",
       "      <td>NaN</td>\n",
       "      <td>NaN</td>\n",
       "      <td>NaN</td>\n",
       "      <td>NaN</td>\n",
       "      <td>NaN</td>\n",
       "      <td>NaN</td>\n",
       "      <td>NaN</td>\n",
       "      <td>0.0433</td>\n",
       "      <td>0.0514</td>\n",
       "      <td>0.0517</td>\n",
       "      <td>0.0426</td>\n",
       "      <td>0.0898</td>\n",
       "    </tr>\n",
       "    <tr>\n",
       "      <th>8</th>\n",
       "      <td>EA</td>\n",
       "      <td>Euro area (EA11-1999, EA12-2001, EA13-2007, EA...</td>\n",
       "      <td>NaN</td>\n",
       "      <td>NaN</td>\n",
       "      <td>NaN</td>\n",
       "      <td>NaN</td>\n",
       "      <td>NaN</td>\n",
       "      <td>NaN</td>\n",
       "      <td>NaN</td>\n",
       "      <td>NaN</td>\n",
       "      <td>NaN</td>\n",
       "      <td>NaN</td>\n",
       "      <td>0.0757</td>\n",
       "      <td>0.0837</td>\n",
       "      <td>0.0794</td>\n",
       "      <td>0.0780</td>\n",
       "      <td>0.0893</td>\n",
       "    </tr>\n",
       "    <tr>\n",
       "      <th>9</th>\n",
       "      <td>EE</td>\n",
       "      <td>Estonia</td>\n",
       "      <td>NaN</td>\n",
       "      <td>NaN</td>\n",
       "      <td>NaN</td>\n",
       "      <td>NaN</td>\n",
       "      <td>NaN</td>\n",
       "      <td>NaN</td>\n",
       "      <td>NaN</td>\n",
       "      <td>NaN</td>\n",
       "      <td>NaN</td>\n",
       "      <td>NaN</td>\n",
       "      <td>0.0406</td>\n",
       "      <td>0.0489</td>\n",
       "      <td>0.0516</td>\n",
       "      <td>0.0440</td>\n",
       "      <td>0.0850</td>\n",
       "    </tr>\n",
       "  </tbody>\n",
       "</table>\n",
       "</div>"
      ],
      "text/plain": [
       "  country                                       country_name  2007-S2  \\\n",
       "0      AT                                            Austria      NaN   \n",
       "1      BA                             Bosnia and Herzegovina      NaN   \n",
       "2      BE                                            Belgium      NaN   \n",
       "3      BG                                           Bulgaria      NaN   \n",
       "4      CY                                             Cyprus      NaN   \n",
       "5      CZ                                            Czechia      NaN   \n",
       "6      DE   Germany (until 1990 former territory of the FRG)      NaN   \n",
       "7      DK                                            Denmark      NaN   \n",
       "8      EA  Euro area (EA11-1999, EA12-2001, EA13-2007, EA...      NaN   \n",
       "9      EE                                            Estonia      NaN   \n",
       "\n",
       "   2008-S2  2009-S2  2010-S2  2011-S2  2012-S2  2013-S2  2014-S2  2015-S2  \\\n",
       "0      NaN      NaN      NaN      NaN      NaN      NaN      NaN      NaN   \n",
       "1      NaN      NaN      NaN      NaN      NaN      NaN      NaN      NaN   \n",
       "2      NaN      NaN      NaN      NaN      NaN      NaN      NaN      NaN   \n",
       "3      NaN      NaN      NaN      NaN      NaN      NaN      NaN      NaN   \n",
       "4      NaN      NaN      NaN      NaN      NaN      NaN      NaN      NaN   \n",
       "5      NaN      NaN      NaN      NaN      NaN      NaN      NaN      NaN   \n",
       "6      NaN      NaN      NaN      NaN      NaN      NaN      NaN      NaN   \n",
       "7      NaN      NaN      NaN      NaN      NaN      NaN      NaN      NaN   \n",
       "8      NaN      NaN      NaN      NaN      NaN      NaN      NaN      NaN   \n",
       "9      NaN      NaN      NaN      NaN      NaN      NaN      NaN      NaN   \n",
       "\n",
       "   2016-S2    2017    2018    2019    2020    2021  \n",
       "0      NaN  0.0598  0.0610  0.0654  0.0702  0.0723  \n",
       "1      NaN  0.0649  0.0621  0.0624  0.0648     NaN  \n",
       "2      NaN  0.0672  0.0624  0.0663  0.0745  0.0890  \n",
       "3      NaN  0.0817  0.0810  0.0764  0.0730  0.1075  \n",
       "4      NaN  0.1187  0.1240  0.1271  0.1055  0.1136  \n",
       "5      NaN  0.0580  0.0602  0.0721  0.0811  0.0848  \n",
       "6      NaN  0.0468  0.0612  0.0525  0.0651  0.0707  \n",
       "7      NaN  0.0433  0.0514  0.0517  0.0426  0.0898  \n",
       "8      NaN  0.0757  0.0837  0.0794  0.0780  0.0893  \n",
       "9      NaN  0.0406  0.0489  0.0516  0.0440  0.0850  "
      ]
     },
     "execution_count": 228,
     "metadata": {},
     "output_type": "execute_result"
    }
   ],
   "source": [
    "data_electricity_prices_no_household_consumers.head( 10 )"
   ]
  },
  {
   "cell_type": "markdown",
   "id": "47076baf-3946-46b2-9663-5ab81011712e",
   "metadata": {},
   "source": [
    "## Análisis inicial y procesamiento de los datos"
   ]
  },
  {
   "cell_type": "markdown",
   "id": "3b976006-4905-455c-9f38-6ff7b9c55e0e",
   "metadata": {},
   "source": [
    "### Funciones de utilidad\n",
    "\n",
    "Estimador utilizando la media **`median_estimator`**. Dentro de una columna del dataframe evalúa aquellos valores nulos y lo sustituye por la media de los valores que no lo son"
   ]
  },
  {
   "cell_type": "code",
   "execution_count": 229,
   "id": "61564202-2e97-4559-87dc-b3776ee3543d",
   "metadata": {},
   "outputs": [],
   "source": [
    "def median_estimator( df, column ) :    \n",
    "    median = df.loc[pd.notnull( df[column]), column].median()\n",
    "    df[column].fillna(median,inplace=True)    \n",
    "    return df    \n"
   ]
  },
  {
   "cell_type": "markdown",
   "id": "1b34d482-26da-40f3-898e-fd34837c3a0c",
   "metadata": {},
   "source": [
    "Función **`show_boxplot`** que muestra el diagrama de caja de los valores de un dataframe\n"
   ]
  },
  {
   "cell_type": "code",
   "execution_count": 230,
   "id": "94f9a59e-334c-4944-851c-1cd65c6f1735",
   "metadata": {},
   "outputs": [],
   "source": [
    "def show_boxplot( df ):\n",
    "    sns.set_theme( style = \"whitegrid\" )\n",
    "    ax = sns.boxplot( data = df )\n",
    "    "
   ]
  },
  {
   "cell_type": "markdown",
   "id": "af481f15-0e3d-4ef0-8f60-d43c22aac761",
   "metadata": {},
   "source": [
    "Función **`init_outlier`**. Iializa el Outlier de una columna, inicializa a nulo el valor máximo de la columna"
   ]
  },
  {
   "cell_type": "code",
   "execution_count": 231,
   "id": "27b65c22-3184-43c1-8bc7-bea5ffe6147a",
   "metadata": {},
   "outputs": [],
   "source": [
    "def init_outlier(df, column): \n",
    "    df.loc[\n",
    "        df[column] == df[column].max(),\n",
    "        column \n",
    "    ] = np.nan\n",
    "    return df\n"
   ]
  },
  {
   "cell_type": "markdown",
   "id": "e94f5987-7ffc-4be6-b40c-e251ceb804a0",
   "metadata": {},
   "source": [
    "### Datos de los costes del gas doméstico\n"
   ]
  },
  {
   "cell_type": "markdown",
   "id": "b1469b45-c1fa-45e5-a20e-1c1e774bb86a",
   "metadata": {},
   "source": [
    "Sustituimos NaN values por su media"
   ]
  },
  {
   "cell_type": "code",
   "execution_count": 232,
   "id": "c9aadf9d-c5b4-40a7-aff2-8030838c0f3c",
   "metadata": {},
   "outputs": [],
   "source": [
    "GasPricesHousehold=data_gas_prices_household_consumers\n",
    "\n",
    "GasPricesHousehold = median_estimator( GasPricesHousehold, '2021' )\n",
    "GasPricesHousehold = median_estimator( GasPricesHousehold, '2020' )\n",
    "GasPricesHousehold = median_estimator( GasPricesHousehold, '2019' )\n",
    "GasPricesHousehold = median_estimator( GasPricesHousehold, '2018' )\n",
    "GasPricesHousehold = median_estimator( GasPricesHousehold, '2017' )\n"
   ]
  },
  {
   "cell_type": "markdown",
   "id": "df5201c9-c3c4-4d7d-9010-dc558a68668c",
   "metadata": {},
   "source": [
    "Se muestran los 10 primeros valores:"
   ]
  },
  {
   "cell_type": "code",
   "execution_count": 233,
   "id": "4798e382-ec09-489e-9788-10e0a2d75c58",
   "metadata": {},
   "outputs": [
    {
     "data": {
      "text/html": [
       "<div>\n",
       "<style scoped>\n",
       "    .dataframe tbody tr th:only-of-type {\n",
       "        vertical-align: middle;\n",
       "    }\n",
       "\n",
       "    .dataframe tbody tr th {\n",
       "        vertical-align: top;\n",
       "    }\n",
       "\n",
       "    .dataframe thead th {\n",
       "        text-align: right;\n",
       "    }\n",
       "</style>\n",
       "<table border=\"1\" class=\"dataframe\">\n",
       "  <thead>\n",
       "    <tr style=\"text-align: right;\">\n",
       "      <th></th>\n",
       "      <th>country</th>\n",
       "      <th>country_name</th>\n",
       "      <th>2017</th>\n",
       "      <th>2018</th>\n",
       "      <th>2019</th>\n",
       "      <th>2020</th>\n",
       "      <th>2021</th>\n",
       "    </tr>\n",
       "  </thead>\n",
       "  <tbody>\n",
       "    <tr>\n",
       "      <th>0</th>\n",
       "      <td>AT</td>\n",
       "      <td>Austria</td>\n",
       "      <td>0.0299</td>\n",
       "      <td>0.0304</td>\n",
       "      <td>0.0312</td>\n",
       "      <td>0.0308</td>\n",
       "      <td>0.0316</td>\n",
       "    </tr>\n",
       "    <tr>\n",
       "      <th>1</th>\n",
       "      <td>BA</td>\n",
       "      <td>Bosnia and Herzegovina</td>\n",
       "      <td>0.0240</td>\n",
       "      <td>0.0240</td>\n",
       "      <td>0.0249</td>\n",
       "      <td>0.0258</td>\n",
       "      <td>0.0251</td>\n",
       "    </tr>\n",
       "    <tr>\n",
       "      <th>2</th>\n",
       "      <td>BE</td>\n",
       "      <td>Belgium</td>\n",
       "      <td>0.0283</td>\n",
       "      <td>0.0288</td>\n",
       "      <td>0.0289</td>\n",
       "      <td>0.0252</td>\n",
       "      <td>0.0315</td>\n",
       "    </tr>\n",
       "    <tr>\n",
       "      <th>3</th>\n",
       "      <td>BG</td>\n",
       "      <td>Bulgaria</td>\n",
       "      <td>0.0170</td>\n",
       "      <td>0.0209</td>\n",
       "      <td>0.0240</td>\n",
       "      <td>0.0177</td>\n",
       "      <td>0.0331</td>\n",
       "    </tr>\n",
       "    <tr>\n",
       "      <th>4</th>\n",
       "      <td>CZ</td>\n",
       "      <td>Czechia</td>\n",
       "      <td>0.0360</td>\n",
       "      <td>0.0390</td>\n",
       "      <td>0.0455</td>\n",
       "      <td>0.0431</td>\n",
       "      <td>0.0448</td>\n",
       "    </tr>\n",
       "    <tr>\n",
       "      <th>5</th>\n",
       "      <td>DE</td>\n",
       "      <td>Germany (until 1990 former territory of the FRG)</td>\n",
       "      <td>0.0243</td>\n",
       "      <td>0.0254</td>\n",
       "      <td>0.0278</td>\n",
       "      <td>0.0292</td>\n",
       "      <td>0.0293</td>\n",
       "    </tr>\n",
       "    <tr>\n",
       "      <th>6</th>\n",
       "      <td>DK</td>\n",
       "      <td>Denmark</td>\n",
       "      <td>0.0234</td>\n",
       "      <td>0.0259</td>\n",
       "      <td>0.0209</td>\n",
       "      <td>0.0160</td>\n",
       "      <td>0.0415</td>\n",
       "    </tr>\n",
       "    <tr>\n",
       "      <th>7</th>\n",
       "      <td>EA</td>\n",
       "      <td>Euro area (EA11-1999, EA12-2001, EA13-2007, EA...</td>\n",
       "      <td>0.0295</td>\n",
       "      <td>0.0303</td>\n",
       "      <td>0.0319</td>\n",
       "      <td>0.0302</td>\n",
       "      <td>0.0315</td>\n",
       "    </tr>\n",
       "    <tr>\n",
       "      <th>8</th>\n",
       "      <td>EE</td>\n",
       "      <td>Estonia</td>\n",
       "      <td>0.0234</td>\n",
       "      <td>0.0239</td>\n",
       "      <td>0.0253</td>\n",
       "      <td>0.0240</td>\n",
       "      <td>0.0361</td>\n",
       "    </tr>\n",
       "    <tr>\n",
       "      <th>9</th>\n",
       "      <td>EL</td>\n",
       "      <td>Greece</td>\n",
       "      <td>0.0243</td>\n",
       "      <td>0.0311</td>\n",
       "      <td>0.0338</td>\n",
       "      <td>0.0258</td>\n",
       "      <td>0.0444</td>\n",
       "    </tr>\n",
       "  </tbody>\n",
       "</table>\n",
       "</div>"
      ],
      "text/plain": [
       "  country                                       country_name    2017    2018  \\\n",
       "0      AT                                            Austria  0.0299  0.0304   \n",
       "1      BA                             Bosnia and Herzegovina  0.0240  0.0240   \n",
       "2      BE                                            Belgium  0.0283  0.0288   \n",
       "3      BG                                           Bulgaria  0.0170  0.0209   \n",
       "4      CZ                                            Czechia  0.0360  0.0390   \n",
       "5      DE   Germany (until 1990 former territory of the FRG)  0.0243  0.0254   \n",
       "6      DK                                            Denmark  0.0234  0.0259   \n",
       "7      EA  Euro area (EA11-1999, EA12-2001, EA13-2007, EA...  0.0295  0.0303   \n",
       "8      EE                                            Estonia  0.0234  0.0239   \n",
       "9      EL                                             Greece  0.0243  0.0311   \n",
       "\n",
       "     2019    2020    2021  \n",
       "0  0.0312  0.0308  0.0316  \n",
       "1  0.0249  0.0258  0.0251  \n",
       "2  0.0289  0.0252  0.0315  \n",
       "3  0.0240  0.0177  0.0331  \n",
       "4  0.0455  0.0431  0.0448  \n",
       "5  0.0278  0.0292  0.0293  \n",
       "6  0.0209  0.0160  0.0415  \n",
       "7  0.0319  0.0302  0.0315  \n",
       "8  0.0253  0.0240  0.0361  \n",
       "9  0.0338  0.0258  0.0444  "
      ]
     },
     "metadata": {},
     "output_type": "display_data"
    }
   ],
   "source": [
    "display( GasPricesHousehold.head(10) )"
   ]
  },
  {
   "cell_type": "markdown",
   "id": "57fc1a2a-cf5f-4245-9d48-28f5b269d58e",
   "metadata": {},
   "source": [
    "Diagrama de caja para los diferentes años:"
   ]
  },
  {
   "cell_type": "code",
   "execution_count": 234,
   "id": "bd728867-3de1-472b-9de4-5038a1bfa8e2",
   "metadata": {},
   "outputs": [
    {
     "data": {
      "image/png": "[encoded data removed]",
      "text/plain": [
       "<Figure size 432x288 with 1 Axes>"
      ]
     },
     "metadata": {},
     "output_type": "display_data"
    }
   ],
   "source": [
    "show_boxplot( GasPricesHousehold )"
   ]
  },
  {
   "cell_type": "markdown",
   "id": "db0e18f9-d961-40a0-8378-53251f4c8fa3",
   "metadata": {},
   "source": [
    "### Datos de los costes del gas para empresas\n"
   ]
  },
  {
   "cell_type": "markdown",
   "id": "57518575-4db0-4fc0-94ce-03f0c2488280",
   "metadata": {},
   "source": [
    "Sustituimos NaN values por su media"
   ]
  },
  {
   "cell_type": "code",
   "execution_count": 235,
   "id": "7908bdb9-aa50-4420-93ad-562d05cea4fd",
   "metadata": {},
   "outputs": [],
   "source": [
    "GasPricesNoHousehold = data_gas_prices_no_household_consumers\n",
    "\n",
    "GasPricesNoHousehold = median_estimator( GasPricesNoHousehold, '2021' )\n",
    "GasPricesNoHousehold = median_estimator( GasPricesNoHousehold, '2020' )\n",
    "GasPricesNoHousehold = median_estimator( GasPricesNoHousehold, '2019' )\n",
    "GasPricesNoHousehold = median_estimator( GasPricesNoHousehold, '2018' )\n",
    "GasPricesNoHousehold = median_estimator( GasPricesNoHousehold, '2017' )"
   ]
  },
  {
   "cell_type": "markdown",
   "id": "5ff33e7b-ba3f-4b8e-8d40-47fecd2c10b8",
   "metadata": {},
   "source": [
    "Se muestran los 10 primero valores:"
   ]
  },
  {
   "cell_type": "code",
   "execution_count": 236,
   "id": "d2c6338e-caa3-4e5c-89d6-f984d3c792c7",
   "metadata": {},
   "outputs": [
    {
     "data": {
      "text/html": [
       "<div>\n",
       "<style scoped>\n",
       "    .dataframe tbody tr th:only-of-type {\n",
       "        vertical-align: middle;\n",
       "    }\n",
       "\n",
       "    .dataframe tbody tr th {\n",
       "        vertical-align: top;\n",
       "    }\n",
       "\n",
       "    .dataframe thead th {\n",
       "        text-align: right;\n",
       "    }\n",
       "</style>\n",
       "<table border=\"1\" class=\"dataframe\">\n",
       "  <thead>\n",
       "    <tr style=\"text-align: right;\">\n",
       "      <th></th>\n",
       "      <th>country</th>\n",
       "      <th>country_name</th>\n",
       "      <th>2017</th>\n",
       "      <th>2018</th>\n",
       "      <th>2019</th>\n",
       "      <th>2020</th>\n",
       "      <th>2021</th>\n",
       "    </tr>\n",
       "  </thead>\n",
       "  <tbody>\n",
       "    <tr>\n",
       "      <th>0</th>\n",
       "      <td>AT</td>\n",
       "      <td>Austria</td>\n",
       "      <td>0.0220</td>\n",
       "      <td>0.0240</td>\n",
       "      <td>0.0184</td>\n",
       "      <td>0.0168</td>\n",
       "      <td>0.0297</td>\n",
       "    </tr>\n",
       "    <tr>\n",
       "      <th>1</th>\n",
       "      <td>BA</td>\n",
       "      <td>Bosnia and Herzegovina</td>\n",
       "      <td>0.0220</td>\n",
       "      <td>0.0240</td>\n",
       "      <td>0.0257</td>\n",
       "      <td>0.0259</td>\n",
       "      <td>0.0248</td>\n",
       "    </tr>\n",
       "    <tr>\n",
       "      <th>2</th>\n",
       "      <td>BE</td>\n",
       "      <td>Belgium</td>\n",
       "      <td>0.0220</td>\n",
       "      <td>0.0240</td>\n",
       "      <td>0.0189</td>\n",
       "      <td>0.0148</td>\n",
       "      <td>0.0318</td>\n",
       "    </tr>\n",
       "    <tr>\n",
       "      <th>3</th>\n",
       "      <td>BG</td>\n",
       "      <td>Bulgaria</td>\n",
       "      <td>0.0220</td>\n",
       "      <td>0.0240</td>\n",
       "      <td>0.0213</td>\n",
       "      <td>0.0142</td>\n",
       "      <td>0.0299</td>\n",
       "    </tr>\n",
       "    <tr>\n",
       "      <th>4</th>\n",
       "      <td>CZ</td>\n",
       "      <td>Czechia</td>\n",
       "      <td>0.0220</td>\n",
       "      <td>0.0240</td>\n",
       "      <td>0.0226</td>\n",
       "      <td>0.0192</td>\n",
       "      <td>0.0259</td>\n",
       "    </tr>\n",
       "    <tr>\n",
       "      <th>5</th>\n",
       "      <td>DE</td>\n",
       "      <td>Germany (until 1990 former territory of the FRG)</td>\n",
       "      <td>0.0220</td>\n",
       "      <td>0.0240</td>\n",
       "      <td>0.0196</td>\n",
       "      <td>0.0171</td>\n",
       "      <td>0.0262</td>\n",
       "    </tr>\n",
       "    <tr>\n",
       "      <th>6</th>\n",
       "      <td>DK</td>\n",
       "      <td>Denmark</td>\n",
       "      <td>0.0194</td>\n",
       "      <td>0.0234</td>\n",
       "      <td>0.0178</td>\n",
       "      <td>0.0137</td>\n",
       "      <td>0.0448</td>\n",
       "    </tr>\n",
       "    <tr>\n",
       "      <th>7</th>\n",
       "      <td>EA</td>\n",
       "      <td>Euro area (EA11-1999, EA12-2001, EA13-2007, EA...</td>\n",
       "      <td>0.0220</td>\n",
       "      <td>0.0240</td>\n",
       "      <td>0.0211</td>\n",
       "      <td>0.0175</td>\n",
       "      <td>0.0278</td>\n",
       "    </tr>\n",
       "    <tr>\n",
       "      <th>8</th>\n",
       "      <td>EE</td>\n",
       "      <td>Estonia</td>\n",
       "      <td>0.0220</td>\n",
       "      <td>0.0240</td>\n",
       "      <td>0.0213</td>\n",
       "      <td>0.0155</td>\n",
       "      <td>0.0352</td>\n",
       "    </tr>\n",
       "    <tr>\n",
       "      <th>9</th>\n",
       "      <td>EL</td>\n",
       "      <td>Greece</td>\n",
       "      <td>0.0220</td>\n",
       "      <td>0.0240</td>\n",
       "      <td>0.0260</td>\n",
       "      <td>0.0165</td>\n",
       "      <td>0.0337</td>\n",
       "    </tr>\n",
       "  </tbody>\n",
       "</table>\n",
       "</div>"
      ],
      "text/plain": [
       "  country                                       country_name    2017    2018  \\\n",
       "0      AT                                            Austria  0.0220  0.0240   \n",
       "1      BA                             Bosnia and Herzegovina  0.0220  0.0240   \n",
       "2      BE                                            Belgium  0.0220  0.0240   \n",
       "3      BG                                           Bulgaria  0.0220  0.0240   \n",
       "4      CZ                                            Czechia  0.0220  0.0240   \n",
       "5      DE   Germany (until 1990 former territory of the FRG)  0.0220  0.0240   \n",
       "6      DK                                            Denmark  0.0194  0.0234   \n",
       "7      EA  Euro area (EA11-1999, EA12-2001, EA13-2007, EA...  0.0220  0.0240   \n",
       "8      EE                                            Estonia  0.0220  0.0240   \n",
       "9      EL                                             Greece  0.0220  0.0240   \n",
       "\n",
       "     2019    2020    2021  \n",
       "0  0.0184  0.0168  0.0297  \n",
       "1  0.0257  0.0259  0.0248  \n",
       "2  0.0189  0.0148  0.0318  \n",
       "3  0.0213  0.0142  0.0299  \n",
       "4  0.0226  0.0192  0.0259  \n",
       "5  0.0196  0.0171  0.0262  \n",
       "6  0.0178  0.0137  0.0448  \n",
       "7  0.0211  0.0175  0.0278  \n",
       "8  0.0213  0.0155  0.0352  \n",
       "9  0.0260  0.0165  0.0337  "
      ]
     },
     "metadata": {},
     "output_type": "display_data"
    }
   ],
   "source": [
    "display( GasPricesNoHousehold.head(10) )"
   ]
  },
  {
   "cell_type": "markdown",
   "id": "4896af6c-42b7-404f-aeba-adac41444458",
   "metadata": {},
   "source": [
    "Diagrama de caja para los diferentes años:"
   ]
  },
  {
   "cell_type": "code",
   "execution_count": 237,
   "id": "f2119cd0-3928-44e5-aa25-5f12ffb25bba",
   "metadata": {},
   "outputs": [
    {
     "data": {
      "image/png": "[encoded data removed]",
      "text/plain": [
       "<Figure size 432x288 with 1 Axes>"
      ]
     },
     "metadata": {},
     "output_type": "display_data"
    }
   ],
   "source": [
    "show_boxplot( GasPricesNoHousehold )"
   ]
  },
  {
   "cell_type": "markdown",
   "id": "87f92e93-eb6b-48f1-a85a-653a6c2ceb17",
   "metadata": {},
   "source": [
    "### Datos de los costes de la electricidad doméstica\n"
   ]
  },
  {
   "cell_type": "markdown",
   "id": "27cb7316-82aa-4020-9e48-010cc9cac468",
   "metadata": {},
   "source": [
    "Se eliminan las columnas correspondientes a los valores semestrales de lo años desde el 2012 al 2016 que no contienen datos"
   ]
  },
  {
   "cell_type": "code",
   "execution_count": 238,
   "id": "1ff04625-dda6-409d-a222-a542994dd50f",
   "metadata": {},
   "outputs": [],
   "source": [
    "ElectPricesHouseholds = data_electricity_prices_household_consumers.drop(\n",
    "    [\n",
    "     '2012-S2',\n",
    "     '2013-S2',\n",
    "     '2014-S2',\n",
    "     '2015-S2',\n",
    "     '2016-S2'\n",
    "    ], axis=1\n",
    ")"
   ]
  },
  {
   "cell_type": "markdown",
   "id": "f18a8a06-a167-4c25-9d66-1b79464e975a",
   "metadata": {},
   "source": [
    "Muestra de los 10 primeros valores"
   ]
  },
  {
   "cell_type": "code",
   "execution_count": 239,
   "id": "14732394-69d5-4db9-a9ff-1fdf68cd489d",
   "metadata": {},
   "outputs": [
    {
     "data": {
      "text/html": [
       "<div>\n",
       "<style scoped>\n",
       "    .dataframe tbody tr th:only-of-type {\n",
       "        vertical-align: middle;\n",
       "    }\n",
       "\n",
       "    .dataframe tbody tr th {\n",
       "        vertical-align: top;\n",
       "    }\n",
       "\n",
       "    .dataframe thead th {\n",
       "        text-align: right;\n",
       "    }\n",
       "</style>\n",
       "<table border=\"1\" class=\"dataframe\">\n",
       "  <thead>\n",
       "    <tr style=\"text-align: right;\">\n",
       "      <th></th>\n",
       "      <th>country</th>\n",
       "      <th>country_name</th>\n",
       "      <th>2017</th>\n",
       "      <th>2018</th>\n",
       "      <th>2019</th>\n",
       "      <th>2020</th>\n",
       "      <th>2021</th>\n",
       "    </tr>\n",
       "  </thead>\n",
       "  <tbody>\n",
       "    <tr>\n",
       "      <th>0</th>\n",
       "      <td>AL</td>\n",
       "      <td>Albania</td>\n",
       "      <td>0.0713</td>\n",
       "      <td>0.0759</td>\n",
       "      <td>0.0778</td>\n",
       "      <td>NaN</td>\n",
       "      <td>0.0781</td>\n",
       "    </tr>\n",
       "    <tr>\n",
       "      <th>1</th>\n",
       "      <td>AT</td>\n",
       "      <td>Austria</td>\n",
       "      <td>0.0613</td>\n",
       "      <td>0.0623</td>\n",
       "      <td>0.0687</td>\n",
       "      <td>0.0732</td>\n",
       "      <td>0.0745</td>\n",
       "    </tr>\n",
       "    <tr>\n",
       "      <th>2</th>\n",
       "      <td>BA</td>\n",
       "      <td>Bosnia and Herzegovina</td>\n",
       "      <td>0.0342</td>\n",
       "      <td>0.0338</td>\n",
       "      <td>0.0361</td>\n",
       "      <td>0.0365</td>\n",
       "      <td>NaN</td>\n",
       "    </tr>\n",
       "    <tr>\n",
       "      <th>3</th>\n",
       "      <td>BE</td>\n",
       "      <td>Belgium</td>\n",
       "      <td>0.0735</td>\n",
       "      <td>0.0808</td>\n",
       "      <td>0.0859</td>\n",
       "      <td>0.0786</td>\n",
       "      <td>0.0844</td>\n",
       "    </tr>\n",
       "    <tr>\n",
       "      <th>4</th>\n",
       "      <td>BG</td>\n",
       "      <td>Bulgaria</td>\n",
       "      <td>0.0575</td>\n",
       "      <td>0.0585</td>\n",
       "      <td>0.0558</td>\n",
       "      <td>0.0560</td>\n",
       "      <td>0.0608</td>\n",
       "    </tr>\n",
       "    <tr>\n",
       "      <th>5</th>\n",
       "      <td>CY</td>\n",
       "      <td>Cyprus</td>\n",
       "      <td>0.1036</td>\n",
       "      <td>0.1157</td>\n",
       "      <td>0.1241</td>\n",
       "      <td>0.1042</td>\n",
       "      <td>0.1094</td>\n",
       "    </tr>\n",
       "    <tr>\n",
       "      <th>6</th>\n",
       "      <td>CZ</td>\n",
       "      <td>Czechia</td>\n",
       "      <td>0.0541</td>\n",
       "      <td>0.0570</td>\n",
       "      <td>0.0690</td>\n",
       "      <td>0.0749</td>\n",
       "      <td>0.0979</td>\n",
       "    </tr>\n",
       "    <tr>\n",
       "      <th>7</th>\n",
       "      <td>DE</td>\n",
       "      <td>Germany (until 1990 former territory of the FRG)</td>\n",
       "      <td>0.0686</td>\n",
       "      <td>0.0622</td>\n",
       "      <td>0.0581</td>\n",
       "      <td>0.0574</td>\n",
       "      <td>0.0803</td>\n",
       "    </tr>\n",
       "    <tr>\n",
       "      <th>8</th>\n",
       "      <td>DK</td>\n",
       "      <td>Denmark</td>\n",
       "      <td>0.0388</td>\n",
       "      <td>0.0503</td>\n",
       "      <td>0.0539</td>\n",
       "      <td>0.0409</td>\n",
       "      <td>0.0747</td>\n",
       "    </tr>\n",
       "    <tr>\n",
       "      <th>9</th>\n",
       "      <td>EA</td>\n",
       "      <td>Euro area (EA11-1999, EA12-2001, EA13-2007, EA...</td>\n",
       "      <td>0.0760</td>\n",
       "      <td>0.0801</td>\n",
       "      <td>0.0727</td>\n",
       "      <td>0.0697</td>\n",
       "      <td>0.0898</td>\n",
       "    </tr>\n",
       "  </tbody>\n",
       "</table>\n",
       "</div>"
      ],
      "text/plain": [
       "  country                                       country_name    2017    2018  \\\n",
       "0      AL                                            Albania  0.0713  0.0759   \n",
       "1      AT                                            Austria  0.0613  0.0623   \n",
       "2      BA                             Bosnia and Herzegovina  0.0342  0.0338   \n",
       "3      BE                                            Belgium  0.0735  0.0808   \n",
       "4      BG                                           Bulgaria  0.0575  0.0585   \n",
       "5      CY                                             Cyprus  0.1036  0.1157   \n",
       "6      CZ                                            Czechia  0.0541  0.0570   \n",
       "7      DE   Germany (until 1990 former territory of the FRG)  0.0686  0.0622   \n",
       "8      DK                                            Denmark  0.0388  0.0503   \n",
       "9      EA  Euro area (EA11-1999, EA12-2001, EA13-2007, EA...  0.0760  0.0801   \n",
       "\n",
       "     2019    2020    2021  \n",
       "0  0.0778     NaN  0.0781  \n",
       "1  0.0687  0.0732  0.0745  \n",
       "2  0.0361  0.0365     NaN  \n",
       "3  0.0859  0.0786  0.0844  \n",
       "4  0.0558  0.0560  0.0608  \n",
       "5  0.1241  0.1042  0.1094  \n",
       "6  0.0690  0.0749  0.0979  \n",
       "7  0.0581  0.0574  0.0803  \n",
       "8  0.0539  0.0409  0.0747  \n",
       "9  0.0727  0.0697  0.0898  "
      ]
     },
     "metadata": {},
     "output_type": "display_data"
    }
   ],
   "source": [
    "display( ElectPricesHouseholds.head( 10 ) )"
   ]
  },
  {
   "cell_type": "markdown",
   "id": "bc2bb56a-3810-4a93-9ba6-f9b71507bdef",
   "metadata": {},
   "source": [
    "Se muestra el diagrama de caja"
   ]
  },
  {
   "cell_type": "code",
   "execution_count": 240,
   "id": "1651de0b-71d8-4d56-9269-8e116b73d383",
   "metadata": {},
   "outputs": [
    {
     "data": {
      "image/png": "[encoded data removed]",
      "text/plain": [
       "<Figure size 432x288 with 1 Axes>"
      ]
     },
     "metadata": {},
     "output_type": "display_data"
    }
   ],
   "source": [
    "show_boxplot( ElectPricesHouseholds )"
   ]
  },
  {
   "cell_type": "markdown",
   "id": "15c80287-6296-4dc5-81c8-3daad1df08c4",
   "metadata": {},
   "source": [
    "Detectamos Outlier en el año 2021, inicializamos valor"
   ]
  },
  {
   "cell_type": "code",
   "execution_count": 241,
   "id": "967f0052-e0b9-4c72-b2b2-51d5383f1fbb",
   "metadata": {},
   "outputs": [],
   "source": [
    "ElectPricesHouseholds = init_outlier(ElectPricesHouseholds, '2021')"
   ]
  },
  {
   "cell_type": "markdown",
   "id": "2fa504b3-0b86-43b8-b67f-b1dd79c60f84",
   "metadata": {},
   "source": [
    " Estimamos valores nulos por la media"
   ]
  },
  {
   "cell_type": "code",
   "execution_count": 242,
   "id": "8fa9c4c3-5b35-4262-af62-89cab6064204",
   "metadata": {},
   "outputs": [],
   "source": [
    "ElectPricesHouseholds = median_estimator( ElectPricesHouseholds, '2021' )\n",
    "ElectPricesHouseholds = median_estimator( ElectPricesHouseholds, '2020' )\n",
    "ElectPricesHouseholds = median_estimator( ElectPricesHouseholds, '2019' )\n",
    "ElectPricesHouseholds = median_estimator( ElectPricesHouseholds, '2018' )\n",
    "ElectPricesHouseholds = median_estimator( ElectPricesHouseholds, '2017' )\n"
   ]
  },
  {
   "cell_type": "markdown",
   "id": "4e335fba-e07b-45aa-a149-1d9daf41e7df",
   "metadata": {},
   "source": [
    "Se vuelve a mostrar el diagrama de caja"
   ]
  },
  {
   "cell_type": "code",
   "execution_count": 243,
   "id": "ae00db85-7dc9-43ce-a5b3-35e87c3eb0f7",
   "metadata": {},
   "outputs": [
    {
     "data": {
      "image/png": "[encoded data removed]",
      "text/plain": [
       "<Figure size 432x288 with 1 Axes>"
      ]
     },
     "metadata": {},
     "output_type": "display_data"
    }
   ],
   "source": [
    "show_boxplot( ElectPricesHouseholds )"
   ]
  },
  {
   "cell_type": "markdown",
   "id": "185a2061-7c3a-42e2-86b4-1d9a26be40ad",
   "metadata": {},
   "source": [
    "### Datos de los costes de la electricidad para empresas\n"
   ]
  },
  {
   "cell_type": "markdown",
   "id": "8cfaada4-a631-4347-98b7-1d4c6124542a",
   "metadata": {},
   "source": [
    "Se eliminan las columnas correspondientes a los valores semestrales de lo años desde el 2012 al 2016 que no contienen datos"
   ]
  },
  {
   "cell_type": "code",
   "execution_count": 244,
   "id": "9d869f12-a54e-4272-9d46-4bb81f1c0225",
   "metadata": {},
   "outputs": [],
   "source": [
    "ElectPricesNoHouseholds = data_electricity_prices_no_household_consumers.drop(\n",
    "    [\n",
    "        '2007-S2',\n",
    "        '2008-S2',\n",
    "        '2009-S2',\n",
    "        '2010-S2',\n",
    "        '2011-S2',\n",
    "        '2012-S2',\n",
    "        '2013-S2',\n",
    "        '2014-S2',\n",
    "        '2015-S2',\n",
    "        '2016-S2'\n",
    "    ], axis=1\n",
    ")"
   ]
  },
  {
   "cell_type": "markdown",
   "id": "d7e857ac-e94e-4b93-bee5-f24cb1ed31f3",
   "metadata": {},
   "source": [
    "Se muestra el diagrama de caja"
   ]
  },
  {
   "cell_type": "code",
   "execution_count": 245,
   "id": "4a549354-f9ed-4c79-a763-d91c6b7086f9",
   "metadata": {},
   "outputs": [
    {
     "data": {
      "image/png": "[encoded data removed]",
      "text/plain": [
       "<Figure size 432x288 with 1 Axes>"
      ]
     },
     "metadata": {},
     "output_type": "display_data"
    }
   ],
   "source": [
    "show_boxplot( ElectPricesNoHouseholds )"
   ]
  },
  {
   "cell_type": "markdown",
   "id": "00b8eaf5-0313-444a-a375-bd5c18755385",
   "metadata": {},
   "source": [
    "Muestra de los 10 primeros valores"
   ]
  },
  {
   "cell_type": "code",
   "execution_count": 246,
   "id": "699d3b69-a0af-42f0-ae47-11d0122578e7",
   "metadata": {},
   "outputs": [
    {
     "data": {
      "text/html": [
       "<div>\n",
       "<style scoped>\n",
       "    .dataframe tbody tr th:only-of-type {\n",
       "        vertical-align: middle;\n",
       "    }\n",
       "\n",
       "    .dataframe tbody tr th {\n",
       "        vertical-align: top;\n",
       "    }\n",
       "\n",
       "    .dataframe thead th {\n",
       "        text-align: right;\n",
       "    }\n",
       "</style>\n",
       "<table border=\"1\" class=\"dataframe\">\n",
       "  <thead>\n",
       "    <tr style=\"text-align: right;\">\n",
       "      <th></th>\n",
       "      <th>country</th>\n",
       "      <th>country_name</th>\n",
       "      <th>2017</th>\n",
       "      <th>2018</th>\n",
       "      <th>2019</th>\n",
       "      <th>2020</th>\n",
       "      <th>2021</th>\n",
       "    </tr>\n",
       "  </thead>\n",
       "  <tbody>\n",
       "    <tr>\n",
       "      <th>0</th>\n",
       "      <td>AT</td>\n",
       "      <td>Austria</td>\n",
       "      <td>0.0598</td>\n",
       "      <td>0.0610</td>\n",
       "      <td>0.0654</td>\n",
       "      <td>0.0702</td>\n",
       "      <td>0.0723</td>\n",
       "    </tr>\n",
       "    <tr>\n",
       "      <th>1</th>\n",
       "      <td>BA</td>\n",
       "      <td>Bosnia and Herzegovina</td>\n",
       "      <td>0.0649</td>\n",
       "      <td>0.0621</td>\n",
       "      <td>0.0624</td>\n",
       "      <td>0.0648</td>\n",
       "      <td>NaN</td>\n",
       "    </tr>\n",
       "    <tr>\n",
       "      <th>2</th>\n",
       "      <td>BE</td>\n",
       "      <td>Belgium</td>\n",
       "      <td>0.0672</td>\n",
       "      <td>0.0624</td>\n",
       "      <td>0.0663</td>\n",
       "      <td>0.0745</td>\n",
       "      <td>0.0890</td>\n",
       "    </tr>\n",
       "    <tr>\n",
       "      <th>3</th>\n",
       "      <td>BG</td>\n",
       "      <td>Bulgaria</td>\n",
       "      <td>0.0817</td>\n",
       "      <td>0.0810</td>\n",
       "      <td>0.0764</td>\n",
       "      <td>0.0730</td>\n",
       "      <td>0.1075</td>\n",
       "    </tr>\n",
       "    <tr>\n",
       "      <th>4</th>\n",
       "      <td>CY</td>\n",
       "      <td>Cyprus</td>\n",
       "      <td>0.1187</td>\n",
       "      <td>0.1240</td>\n",
       "      <td>0.1271</td>\n",
       "      <td>0.1055</td>\n",
       "      <td>0.1136</td>\n",
       "    </tr>\n",
       "    <tr>\n",
       "      <th>5</th>\n",
       "      <td>CZ</td>\n",
       "      <td>Czechia</td>\n",
       "      <td>0.0580</td>\n",
       "      <td>0.0602</td>\n",
       "      <td>0.0721</td>\n",
       "      <td>0.0811</td>\n",
       "      <td>0.0848</td>\n",
       "    </tr>\n",
       "    <tr>\n",
       "      <th>6</th>\n",
       "      <td>DE</td>\n",
       "      <td>Germany (until 1990 former territory of the FRG)</td>\n",
       "      <td>0.0468</td>\n",
       "      <td>0.0612</td>\n",
       "      <td>0.0525</td>\n",
       "      <td>0.0651</td>\n",
       "      <td>0.0707</td>\n",
       "    </tr>\n",
       "    <tr>\n",
       "      <th>7</th>\n",
       "      <td>DK</td>\n",
       "      <td>Denmark</td>\n",
       "      <td>0.0433</td>\n",
       "      <td>0.0514</td>\n",
       "      <td>0.0517</td>\n",
       "      <td>0.0426</td>\n",
       "      <td>0.0898</td>\n",
       "    </tr>\n",
       "    <tr>\n",
       "      <th>8</th>\n",
       "      <td>EA</td>\n",
       "      <td>Euro area (EA11-1999, EA12-2001, EA13-2007, EA...</td>\n",
       "      <td>0.0757</td>\n",
       "      <td>0.0837</td>\n",
       "      <td>0.0794</td>\n",
       "      <td>0.0780</td>\n",
       "      <td>0.0893</td>\n",
       "    </tr>\n",
       "    <tr>\n",
       "      <th>9</th>\n",
       "      <td>EE</td>\n",
       "      <td>Estonia</td>\n",
       "      <td>0.0406</td>\n",
       "      <td>0.0489</td>\n",
       "      <td>0.0516</td>\n",
       "      <td>0.0440</td>\n",
       "      <td>0.0850</td>\n",
       "    </tr>\n",
       "  </tbody>\n",
       "</table>\n",
       "</div>"
      ],
      "text/plain": [
       "  country                                       country_name    2017    2018  \\\n",
       "0      AT                                            Austria  0.0598  0.0610   \n",
       "1      BA                             Bosnia and Herzegovina  0.0649  0.0621   \n",
       "2      BE                                            Belgium  0.0672  0.0624   \n",
       "3      BG                                           Bulgaria  0.0817  0.0810   \n",
       "4      CY                                             Cyprus  0.1187  0.1240   \n",
       "5      CZ                                            Czechia  0.0580  0.0602   \n",
       "6      DE   Germany (until 1990 former territory of the FRG)  0.0468  0.0612   \n",
       "7      DK                                            Denmark  0.0433  0.0514   \n",
       "8      EA  Euro area (EA11-1999, EA12-2001, EA13-2007, EA...  0.0757  0.0837   \n",
       "9      EE                                            Estonia  0.0406  0.0489   \n",
       "\n",
       "     2019    2020    2021  \n",
       "0  0.0654  0.0702  0.0723  \n",
       "1  0.0624  0.0648     NaN  \n",
       "2  0.0663  0.0745  0.0890  \n",
       "3  0.0764  0.0730  0.1075  \n",
       "4  0.1271  0.1055  0.1136  \n",
       "5  0.0721  0.0811  0.0848  \n",
       "6  0.0525  0.0651  0.0707  \n",
       "7  0.0517  0.0426  0.0898  \n",
       "8  0.0794  0.0780  0.0893  \n",
       "9  0.0516  0.0440  0.0850  "
      ]
     },
     "metadata": {},
     "output_type": "display_data"
    }
   ],
   "source": [
    "display( ElectPricesNoHouseholds.head( 10 ) )"
   ]
  },
  {
   "cell_type": "markdown",
   "id": "8c871e1c-2769-421e-84b0-3086f2aacb1b",
   "metadata": {},
   "source": [
    "Detectamos Outlier en los valores del 2021 y lo inicializamos "
   ]
  },
  {
   "cell_type": "code",
   "execution_count": 247,
   "id": "15cca0b1-5544-42e2-be94-becefd3d966e",
   "metadata": {},
   "outputs": [],
   "source": [
    "ElectPricesHouseholds = init_outlier(ElectPricesNoHouseholds, '2021')"
   ]
  },
  {
   "cell_type": "markdown",
   "id": "9c9b09ee-b1f6-48ad-9674-42335293e4b9",
   "metadata": {},
   "source": [
    "Se evaluan con el estimador de la media los valores nulos"
   ]
  },
  {
   "cell_type": "code",
   "execution_count": 248,
   "id": "76208d3a-c00a-42ab-8482-0bcb483a5ce9",
   "metadata": {},
   "outputs": [],
   "source": [
    "ElectPricesNoHouseholds = median_estimator( ElectPricesNoHouseholds, '2021' )\n",
    "ElectPricesNoHouseholds = median_estimator( ElectPricesNoHouseholds, '2020' )\n",
    "ElectPricesNoHouseholds = median_estimator( ElectPricesNoHouseholds, '2019' )\n",
    "ElectPricesNoHouseholds = median_estimator( ElectPricesNoHouseholds, '2018' )\n",
    "ElectPricesNoHouseholds = median_estimator( ElectPricesNoHouseholds, '2017' )\n"
   ]
  },
  {
   "cell_type": "markdown",
   "id": "83c331e9-dcba-45cd-8bf4-0271380e1de1",
   "metadata": {},
   "source": [
    "Se vuelve a mostrar el diagrama de caja"
   ]
  },
  {
   "cell_type": "code",
   "execution_count": 249,
   "id": "57b8ba7d-d898-40b2-8d98-f0127059140c",
   "metadata": {},
   "outputs": [
    {
     "data": {
      "image/png": "[encoded data removed]",
      "text/plain": [
       "<Figure size 432x288 with 1 Axes>"
      ]
     },
     "metadata": {},
     "output_type": "display_data"
    }
   ],
   "source": [
    "show_boxplot( ElectPricesNoHouseholds )"
   ]
  },
  {
   "cell_type": "markdown",
   "id": "8a753b1c-69a0-461e-85c3-9342bafd5b5b",
   "metadata": {},
   "source": [
    "### _Conclusión de análisis inicial de datos:_\n",
    "\n",
    "Descartamos continuar el análisis del \"Gas\" en el caso de los precios de los consumos de las empresas, ya que los datos obtenidos son una muestra demasiado pequeña, en concreto en los años 2017 y 2018 (ver dataset [data_gas_prices_no_household_consumers.csv](subdataset/data_gas_prices_no_household_consumers.csv))."
   ]
  },
  {
   "cell_type": "markdown",
   "id": "88c7dfbe-0464-4ebc-b20a-7eb23c59daac",
   "metadata": {
    "tags": []
   },
   "source": [
    "data_electricity_prices_household_consumers# Generación del dataset Final de trabajo"
   ]
  },
  {
   "cell_type": "markdown",
   "id": "e0ecb1a2-9a36-429a-b6f0-69bfc001e1e4",
   "metadata": {},
   "source": [
    "Generamos El Dataset final a exportar, con los datos posibles "
   ]
  },
  {
   "cell_type": "code",
   "execution_count": 250,
   "id": "47ac9f1e-077c-4596-8d87-2338760cac13",
   "metadata": {},
   "outputs": [],
   "source": [
    "dElectCol = pd.merge(\n",
    "    ElectPricesHouseholds, \n",
    "    ElectPricesNoHouseholds.drop(['country_name'], axis=1), \n",
    "    on='country',\n",
    "    suffixes=('_ElectHouse', '_ElectNoHouse')\n",
    ")\n",
    "\n",
    "dGasCol = pd.merge(\n",
    "    GasPricesHousehold.drop(['country_name'], axis=1), \n",
    "    GasPricesNoHousehold.drop(['country_name'], axis=1), \n",
    "    on='country',\n",
    "    suffixes=('_GasHouse', '_GasNoHouse')\n",
    ")\n",
    "\n",
    "dEnergyCol = pd.merge(\n",
    "    dElectCol, \n",
    "    dGasCol, \n",
    "    on='country'\n",
    ")\n",
    "\n"
   ]
  },
  {
   "cell_type": "markdown",
   "id": "a056f117-8d88-48c9-91a6-57040c9e1aca",
   "metadata": {},
   "source": [
    "Mostramos el dataset final a publicar:"
   ]
  },
  {
   "cell_type": "code",
   "execution_count": 251,
   "id": "33d248e6-b8d7-4eec-8cd9-4d8fff44825c",
   "metadata": {},
   "outputs": [
    {
     "data": {
      "text/html": [
       "<div>\n",
       "<style scoped>\n",
       "    .dataframe tbody tr th:only-of-type {\n",
       "        vertical-align: middle;\n",
       "    }\n",
       "\n",
       "    .dataframe tbody tr th {\n",
       "        vertical-align: top;\n",
       "    }\n",
       "\n",
       "    .dataframe thead th {\n",
       "        text-align: right;\n",
       "    }\n",
       "</style>\n",
       "<table border=\"1\" class=\"dataframe\">\n",
       "  <thead>\n",
       "    <tr style=\"text-align: right;\">\n",
       "      <th></th>\n",
       "      <th>country</th>\n",
       "      <th>country_name</th>\n",
       "      <th>2017_ElectHouse</th>\n",
       "      <th>2018_ElectHouse</th>\n",
       "      <th>2019_ElectHouse</th>\n",
       "      <th>2020_ElectHouse</th>\n",
       "      <th>2021_ElectHouse</th>\n",
       "      <th>2017_ElectNoHouse</th>\n",
       "      <th>2018_ElectNoHouse</th>\n",
       "      <th>2019_ElectNoHouse</th>\n",
       "      <th>...</th>\n",
       "      <th>2017_GasHouse</th>\n",
       "      <th>2018_GasHouse</th>\n",
       "      <th>2019_GasHouse</th>\n",
       "      <th>2020_GasHouse</th>\n",
       "      <th>2021_GasHouse</th>\n",
       "      <th>2017_GasNoHouse</th>\n",
       "      <th>2018_GasNoHouse</th>\n",
       "      <th>2019_GasNoHouse</th>\n",
       "      <th>2020_GasNoHouse</th>\n",
       "      <th>2021_GasNoHouse</th>\n",
       "    </tr>\n",
       "  </thead>\n",
       "  <tbody>\n",
       "    <tr>\n",
       "      <th>0</th>\n",
       "      <td>AT</td>\n",
       "      <td>Austria</td>\n",
       "      <td>0.0598</td>\n",
       "      <td>0.0610</td>\n",
       "      <td>0.0654</td>\n",
       "      <td>0.0702</td>\n",
       "      <td>0.0723</td>\n",
       "      <td>0.0598</td>\n",
       "      <td>0.0610</td>\n",
       "      <td>0.0654</td>\n",
       "      <td>...</td>\n",
       "      <td>0.0299</td>\n",
       "      <td>0.0304</td>\n",
       "      <td>0.0312</td>\n",
       "      <td>0.0308</td>\n",
       "      <td>0.0316</td>\n",
       "      <td>0.022</td>\n",
       "      <td>0.024</td>\n",
       "      <td>0.0184</td>\n",
       "      <td>0.0168</td>\n",
       "      <td>0.0297</td>\n",
       "    </tr>\n",
       "    <tr>\n",
       "      <th>1</th>\n",
       "      <td>BA</td>\n",
       "      <td>Bosnia and Herzegovina</td>\n",
       "      <td>0.0649</td>\n",
       "      <td>0.0621</td>\n",
       "      <td>0.0624</td>\n",
       "      <td>0.0648</td>\n",
       "      <td>0.0793</td>\n",
       "      <td>0.0649</td>\n",
       "      <td>0.0621</td>\n",
       "      <td>0.0624</td>\n",
       "      <td>...</td>\n",
       "      <td>0.0240</td>\n",
       "      <td>0.0240</td>\n",
       "      <td>0.0249</td>\n",
       "      <td>0.0258</td>\n",
       "      <td>0.0251</td>\n",
       "      <td>0.022</td>\n",
       "      <td>0.024</td>\n",
       "      <td>0.0257</td>\n",
       "      <td>0.0259</td>\n",
       "      <td>0.0248</td>\n",
       "    </tr>\n",
       "    <tr>\n",
       "      <th>2</th>\n",
       "      <td>BE</td>\n",
       "      <td>Belgium</td>\n",
       "      <td>0.0672</td>\n",
       "      <td>0.0624</td>\n",
       "      <td>0.0663</td>\n",
       "      <td>0.0745</td>\n",
       "      <td>0.0890</td>\n",
       "      <td>0.0672</td>\n",
       "      <td>0.0624</td>\n",
       "      <td>0.0663</td>\n",
       "      <td>...</td>\n",
       "      <td>0.0283</td>\n",
       "      <td>0.0288</td>\n",
       "      <td>0.0289</td>\n",
       "      <td>0.0252</td>\n",
       "      <td>0.0315</td>\n",
       "      <td>0.022</td>\n",
       "      <td>0.024</td>\n",
       "      <td>0.0189</td>\n",
       "      <td>0.0148</td>\n",
       "      <td>0.0318</td>\n",
       "    </tr>\n",
       "    <tr>\n",
       "      <th>3</th>\n",
       "      <td>BG</td>\n",
       "      <td>Bulgaria</td>\n",
       "      <td>0.0817</td>\n",
       "      <td>0.0810</td>\n",
       "      <td>0.0764</td>\n",
       "      <td>0.0730</td>\n",
       "      <td>0.1075</td>\n",
       "      <td>0.0817</td>\n",
       "      <td>0.0810</td>\n",
       "      <td>0.0764</td>\n",
       "      <td>...</td>\n",
       "      <td>0.0170</td>\n",
       "      <td>0.0209</td>\n",
       "      <td>0.0240</td>\n",
       "      <td>0.0177</td>\n",
       "      <td>0.0331</td>\n",
       "      <td>0.022</td>\n",
       "      <td>0.024</td>\n",
       "      <td>0.0213</td>\n",
       "      <td>0.0142</td>\n",
       "      <td>0.0299</td>\n",
       "    </tr>\n",
       "    <tr>\n",
       "      <th>4</th>\n",
       "      <td>CZ</td>\n",
       "      <td>Czechia</td>\n",
       "      <td>0.0580</td>\n",
       "      <td>0.0602</td>\n",
       "      <td>0.0721</td>\n",
       "      <td>0.0811</td>\n",
       "      <td>0.0848</td>\n",
       "      <td>0.0580</td>\n",
       "      <td>0.0602</td>\n",
       "      <td>0.0721</td>\n",
       "      <td>...</td>\n",
       "      <td>0.0360</td>\n",
       "      <td>0.0390</td>\n",
       "      <td>0.0455</td>\n",
       "      <td>0.0431</td>\n",
       "      <td>0.0448</td>\n",
       "      <td>0.022</td>\n",
       "      <td>0.024</td>\n",
       "      <td>0.0226</td>\n",
       "      <td>0.0192</td>\n",
       "      <td>0.0259</td>\n",
       "    </tr>\n",
       "  </tbody>\n",
       "</table>\n",
       "<p>5 rows × 22 columns</p>\n",
       "</div>"
      ],
      "text/plain": [
       "  country            country_name  2017_ElectHouse  2018_ElectHouse  \\\n",
       "0      AT                 Austria           0.0598           0.0610   \n",
       "1      BA  Bosnia and Herzegovina           0.0649           0.0621   \n",
       "2      BE                 Belgium           0.0672           0.0624   \n",
       "3      BG                Bulgaria           0.0817           0.0810   \n",
       "4      CZ                 Czechia           0.0580           0.0602   \n",
       "\n",
       "   2019_ElectHouse  2020_ElectHouse  2021_ElectHouse  2017_ElectNoHouse  \\\n",
       "0           0.0654           0.0702           0.0723             0.0598   \n",
       "1           0.0624           0.0648           0.0793             0.0649   \n",
       "2           0.0663           0.0745           0.0890             0.0672   \n",
       "3           0.0764           0.0730           0.1075             0.0817   \n",
       "4           0.0721           0.0811           0.0848             0.0580   \n",
       "\n",
       "   2018_ElectNoHouse  2019_ElectNoHouse  ...  2017_GasHouse  2018_GasHouse  \\\n",
       "0             0.0610             0.0654  ...         0.0299         0.0304   \n",
       "1             0.0621             0.0624  ...         0.0240         0.0240   \n",
       "2             0.0624             0.0663  ...         0.0283         0.0288   \n",
       "3             0.0810             0.0764  ...         0.0170         0.0209   \n",
       "4             0.0602             0.0721  ...         0.0360         0.0390   \n",
       "\n",
       "   2019_GasHouse  2020_GasHouse  2021_GasHouse  2017_GasNoHouse  \\\n",
       "0         0.0312         0.0308         0.0316            0.022   \n",
       "1         0.0249         0.0258         0.0251            0.022   \n",
       "2         0.0289         0.0252         0.0315            0.022   \n",
       "3         0.0240         0.0177         0.0331            0.022   \n",
       "4         0.0455         0.0431         0.0448            0.022   \n",
       "\n",
       "   2018_GasNoHouse  2019_GasNoHouse  2020_GasNoHouse  2021_GasNoHouse  \n",
       "0            0.024           0.0184           0.0168           0.0297  \n",
       "1            0.024           0.0257           0.0259           0.0248  \n",
       "2            0.024           0.0189           0.0148           0.0318  \n",
       "3            0.024           0.0213           0.0142           0.0299  \n",
       "4            0.024           0.0226           0.0192           0.0259  \n",
       "\n",
       "[5 rows x 22 columns]"
      ]
     },
     "execution_count": 251,
     "metadata": {},
     "output_type": "execute_result"
    }
   ],
   "source": [
    "dEnergyCol.head()"
   ]
  },
  {
   "cell_type": "markdown",
   "id": "95d81764-f02a-4892-96d5-5a8588cdbd9c",
   "metadata": {},
   "source": [
    "Columnas del dataset a Publicar:"
   ]
  },
  {
   "cell_type": "code",
   "execution_count": 252,
   "id": "39720a6d-faa7-4a6b-9e27-546c0ff129af",
   "metadata": {},
   "outputs": [
    {
     "data": {
      "text/plain": [
       "country               object\n",
       "country_name          object\n",
       "2017_ElectHouse      float64\n",
       "2018_ElectHouse      float64\n",
       "2019_ElectHouse      float64\n",
       "2020_ElectHouse      float64\n",
       "2021_ElectHouse      float64\n",
       "2017_ElectNoHouse    float64\n",
       "2018_ElectNoHouse    float64\n",
       "2019_ElectNoHouse    float64\n",
       "2020_ElectNoHouse    float64\n",
       "2021_ElectNoHouse    float64\n",
       "2017_GasHouse        float64\n",
       "2018_GasHouse        float64\n",
       "2019_GasHouse        float64\n",
       "2020_GasHouse        float64\n",
       "2021_GasHouse        float64\n",
       "2017_GasNoHouse      float64\n",
       "2018_GasNoHouse      float64\n",
       "2019_GasNoHouse      float64\n",
       "2020_GasNoHouse      float64\n",
       "2021_GasNoHouse      float64\n",
       "dtype: object"
      ]
     },
     "metadata": {},
     "output_type": "display_data"
    }
   ],
   "source": [
    "display( dEnergyCol.dtypes )"
   ]
  },
  {
   "cell_type": "markdown",
   "id": "a080e08e-0b4f-4b6b-b0ae-f2d7776c432d",
   "metadata": {
    "tags": []
   },
   "source": [
    "## Exportación dataset Final en formato CSV"
   ]
  },
  {
   "cell_type": "code",
   "execution_count": 253,
   "id": "b50edf1d-0e4f-4268-af59-9dd2f80beab1",
   "metadata": {},
   "outputs": [],
   "source": [
    "export_dataframe( \n",
    "    df = dEnergyCol, \n",
    "    file_name = 'energy_price_dataset', \n",
    "    directory = 'dataset' \n",
    ") "
   ]
  },
  {
   "cell_type": "markdown",
   "id": "c64f39b1-08da-481c-b799-a89788a4d0b3",
   "metadata": {
    "tags": []
   },
   "source": [
    "# Dataset a analizar a partir del dataset publicado"
   ]
  },
  {
   "cell_type": "markdown",
   "id": "986cb579-fc97-48d3-abfc-b75a12cf7f1f",
   "metadata": {},
   "source": [
    "De las conclusiones del anterior estudio vemos que no hay suficientes datos en los datos relativos al precio del gas de las empresas para poder hacer un análisis. Decimos entonces continuar sólo con los datos que hacen referencia a los precios del gas y de la electricidad relativos a entornos domésticos.\n",
    "\n",
    "Costruimos un dataset filtrando solo estos datos, eliminando los datos relativos al precio del gas y a la electricidad de las empresas en el dataset original y también se eliminan los datos acumulados relativos a la Unión Europea:"
   ]
  },
  {
   "cell_type": "code",
   "execution_count": 254,
   "id": "25122476-34b8-4c01-b2e0-460eea40af9f",
   "metadata": {},
   "outputs": [],
   "source": [
    "dEnergyHouseCol = dEnergyCol.loc[\n",
    "                  : ,~dEnergyCol.columns.str.endswith('NoHouse')\n",
    "                ].loc[\n",
    "                  (dEnergyCol[\"country\"] != \"EU27_2020\" )\n",
    "                ].loc[\n",
    "                  (dEnergyCol[\"country\"] != \"EA\" )\n",
    "                ]"
   ]
  },
  {
   "cell_type": "markdown",
   "id": "9413d524-9165-48f3-90c1-6bbd72c061cc",
   "metadata": {},
   "source": [
    "Columnas del dataset a Analizar:"
   ]
  },
  {
   "cell_type": "code",
   "execution_count": 255,
   "id": "e6ff838b-33ad-4b6f-bf3b-5bc28ae07c85",
   "metadata": {},
   "outputs": [
    {
     "data": {
      "text/plain": [
       "country             object\n",
       "country_name        object\n",
       "2017_ElectHouse    float64\n",
       "2018_ElectHouse    float64\n",
       "2019_ElectHouse    float64\n",
       "2020_ElectHouse    float64\n",
       "2021_ElectHouse    float64\n",
       "2017_GasHouse      float64\n",
       "2018_GasHouse      float64\n",
       "2019_GasHouse      float64\n",
       "2020_GasHouse      float64\n",
       "2021_GasHouse      float64\n",
       "dtype: object"
      ]
     },
     "metadata": {},
     "output_type": "display_data"
    }
   ],
   "source": [
    "display( dEnergyHouseCol.dtypes )"
   ]
  },
  {
   "cell_type": "markdown",
   "id": "5963730a-af46-4309-adf0-2015914e3a25",
   "metadata": {},
   "source": [
    "Se presenta una muestra del dataset filtrando sólamente los datos domésticos"
   ]
  },
  {
   "cell_type": "code",
   "execution_count": 256,
   "id": "0b9e1199-fc65-4cf1-967b-7492460ddee7",
   "metadata": {},
   "outputs": [
    {
     "data": {
      "text/html": [
       "<div>\n",
       "<style scoped>\n",
       "    .dataframe tbody tr th:only-of-type {\n",
       "        vertical-align: middle;\n",
       "    }\n",
       "\n",
       "    .dataframe tbody tr th {\n",
       "        vertical-align: top;\n",
       "    }\n",
       "\n",
       "    .dataframe thead th {\n",
       "        text-align: right;\n",
       "    }\n",
       "</style>\n",
       "<table border=\"1\" class=\"dataframe\">\n",
       "  <thead>\n",
       "    <tr style=\"text-align: right;\">\n",
       "      <th></th>\n",
       "      <th>country</th>\n",
       "      <th>country_name</th>\n",
       "      <th>2017_ElectHouse</th>\n",
       "      <th>2018_ElectHouse</th>\n",
       "      <th>2019_ElectHouse</th>\n",
       "      <th>2020_ElectHouse</th>\n",
       "      <th>2021_ElectHouse</th>\n",
       "      <th>2017_GasHouse</th>\n",
       "      <th>2018_GasHouse</th>\n",
       "      <th>2019_GasHouse</th>\n",
       "      <th>2020_GasHouse</th>\n",
       "      <th>2021_GasHouse</th>\n",
       "    </tr>\n",
       "  </thead>\n",
       "  <tbody>\n",
       "    <tr>\n",
       "      <th>0</th>\n",
       "      <td>AT</td>\n",
       "      <td>Austria</td>\n",
       "      <td>0.0598</td>\n",
       "      <td>0.0610</td>\n",
       "      <td>0.0654</td>\n",
       "      <td>0.0702</td>\n",
       "      <td>0.0723</td>\n",
       "      <td>0.0299</td>\n",
       "      <td>0.0304</td>\n",
       "      <td>0.0312</td>\n",
       "      <td>0.0308</td>\n",
       "      <td>0.0316</td>\n",
       "    </tr>\n",
       "    <tr>\n",
       "      <th>1</th>\n",
       "      <td>BA</td>\n",
       "      <td>Bosnia and Herzegovina</td>\n",
       "      <td>0.0649</td>\n",
       "      <td>0.0621</td>\n",
       "      <td>0.0624</td>\n",
       "      <td>0.0648</td>\n",
       "      <td>0.0793</td>\n",
       "      <td>0.0240</td>\n",
       "      <td>0.0240</td>\n",
       "      <td>0.0249</td>\n",
       "      <td>0.0258</td>\n",
       "      <td>0.0251</td>\n",
       "    </tr>\n",
       "    <tr>\n",
       "      <th>2</th>\n",
       "      <td>BE</td>\n",
       "      <td>Belgium</td>\n",
       "      <td>0.0672</td>\n",
       "      <td>0.0624</td>\n",
       "      <td>0.0663</td>\n",
       "      <td>0.0745</td>\n",
       "      <td>0.0890</td>\n",
       "      <td>0.0283</td>\n",
       "      <td>0.0288</td>\n",
       "      <td>0.0289</td>\n",
       "      <td>0.0252</td>\n",
       "      <td>0.0315</td>\n",
       "    </tr>\n",
       "    <tr>\n",
       "      <th>3</th>\n",
       "      <td>BG</td>\n",
       "      <td>Bulgaria</td>\n",
       "      <td>0.0817</td>\n",
       "      <td>0.0810</td>\n",
       "      <td>0.0764</td>\n",
       "      <td>0.0730</td>\n",
       "      <td>0.1075</td>\n",
       "      <td>0.0170</td>\n",
       "      <td>0.0209</td>\n",
       "      <td>0.0240</td>\n",
       "      <td>0.0177</td>\n",
       "      <td>0.0331</td>\n",
       "    </tr>\n",
       "    <tr>\n",
       "      <th>4</th>\n",
       "      <td>CZ</td>\n",
       "      <td>Czechia</td>\n",
       "      <td>0.0580</td>\n",
       "      <td>0.0602</td>\n",
       "      <td>0.0721</td>\n",
       "      <td>0.0811</td>\n",
       "      <td>0.0848</td>\n",
       "      <td>0.0360</td>\n",
       "      <td>0.0390</td>\n",
       "      <td>0.0455</td>\n",
       "      <td>0.0431</td>\n",
       "      <td>0.0448</td>\n",
       "    </tr>\n",
       "  </tbody>\n",
       "</table>\n",
       "</div>"
      ],
      "text/plain": [
       "  country            country_name  2017_ElectHouse  2018_ElectHouse  \\\n",
       "0      AT                 Austria           0.0598           0.0610   \n",
       "1      BA  Bosnia and Herzegovina           0.0649           0.0621   \n",
       "2      BE                 Belgium           0.0672           0.0624   \n",
       "3      BG                Bulgaria           0.0817           0.0810   \n",
       "4      CZ                 Czechia           0.0580           0.0602   \n",
       "\n",
       "   2019_ElectHouse  2020_ElectHouse  2021_ElectHouse  2017_GasHouse  \\\n",
       "0           0.0654           0.0702           0.0723         0.0299   \n",
       "1           0.0624           0.0648           0.0793         0.0240   \n",
       "2           0.0663           0.0745           0.0890         0.0283   \n",
       "3           0.0764           0.0730           0.1075         0.0170   \n",
       "4           0.0721           0.0811           0.0848         0.0360   \n",
       "\n",
       "   2018_GasHouse  2019_GasHouse  2020_GasHouse  2021_GasHouse  \n",
       "0         0.0304         0.0312         0.0308         0.0316  \n",
       "1         0.0240         0.0249         0.0258         0.0251  \n",
       "2         0.0288         0.0289         0.0252         0.0315  \n",
       "3         0.0209         0.0240         0.0177         0.0331  \n",
       "4         0.0390         0.0455         0.0431         0.0448  "
      ]
     },
     "metadata": {},
     "output_type": "display_data"
    }
   ],
   "source": [
    "display( dEnergyHouseCol.head() )"
   ]
  },
  {
   "cell_type": "markdown",
   "id": "088be955-de76-4969-8bde-42253cfac20e",
   "metadata": {},
   "source": [
    "# Análisis de los datos"
   ]
  },
  {
   "cell_type": "markdown",
   "id": "bdee6e72-164b-4edc-ae9d-0d83b61c236e",
   "metadata": {},
   "source": [
    "## Selección del grupo de datos\n",
    "\n",
    "Teniendo por un lado un histórico de los precios de la electricidad y por otro los precios del gas por cada país. Se pretende hacer un estudio de la relación que existe entre ambos precios.\n",
    "\n",
    "Para ello se procesa el dataset de los datos de precios de la energia doméstico para que cada registro tenga la información del país, del año y ambos precios"
   ]
  },
  {
   "cell_type": "markdown",
   "id": "edb07d26-f505-4f8d-b559-dcb19dd82bb4",
   "metadata": {
    "tags": []
   },
   "source": [
    "### Crear el dataset de trabajo"
   ]
  },
  {
   "cell_type": "markdown",
   "id": "42032da7-f22d-41b1-a37b-b1264133e076",
   "metadata": {},
   "source": [
    "Primero se crea una función`reduce_dataset` que permite añadir los precios de la electricidad y del gas. Cada registro tendrá la información del país, del año que se pasa como argumento, al que se refieren los precios, y las columnas del precio del gas y la electricidad. "
   ]
  },
  {
   "cell_type": "code",
   "execution_count": 257,
   "id": "7d746c31-9c55-4a6f-bad5-1fa1edd118dc",
   "metadata": {},
   "outputs": [],
   "source": [
    "def reduce_dataset( original_df, year ):\n",
    "    # Nombre de las columnas de la electricidad y gas del año pasado por argumento\n",
    "    column_name_electricity =  '%s_ElectHouse' % year\n",
    "    column_name_gas =  '%s_GasHouse' % year \n",
    "    # Se obtiene las columnas relacionas con el país, el precio de la electricidad y el gas\n",
    "    df =  original_df.loc[:,['country', column_name_electricity , column_name_gas]]\n",
    "    # Se añade la columna del año\n",
    "    df['Year'] = year    \n",
    "    # Se renombran las columnas de electricidad y gas por precio de electricidad y gas respectivamente\n",
    "    return df.rename(\n",
    "        columns= { \n",
    "                    column_name_electricity: \"ElectricityPrice\", \n",
    "                    column_name_gas        : \"GasPrice\"  \n",
    "                 }\n",
    "    )"
   ]
  },
  {
   "cell_type": "markdown",
   "id": "8e2bdd9d-76ea-4d72-8810-6a892438f4e5",
   "metadata": {},
   "source": [
    "Se concatenan todos los años para crear el dataset de trabajo. También se resetea el índice del dataframe creado."
   ]
  },
  {
   "cell_type": "code",
   "execution_count": 258,
   "id": "b3ffca94-f83d-497f-bcdb-0a39ac3c07e4",
   "metadata": {
    "tags": []
   },
   "outputs": [],
   "source": [
    "df_work = pd.concat(    \n",
    "    [\n",
    "        reduce_dataset( dEnergyHouseCol, 2017 ),\n",
    "        reduce_dataset( dEnergyHouseCol, 2018 ),\n",
    "        reduce_dataset( dEnergyHouseCol, 2019 ),\n",
    "        reduce_dataset( dEnergyHouseCol, 2020 ),\n",
    "        reduce_dataset( dEnergyHouseCol, 2021 )\n",
    "    ]\n",
    ")\n",
    "\n",
    "df_work.reset_index(drop=True, inplace=True)"
   ]
  },
  {
   "cell_type": "markdown",
   "id": "4bf3a4cd-09eb-4741-ae52-fa243d07032d",
   "metadata": {},
   "source": [
    "Se muestra los tipos de las columnas del dataset"
   ]
  },
  {
   "cell_type": "code",
   "execution_count": 259,
   "id": "9c1c9eb0-7652-478d-bc0c-ae6ac0fc5f00",
   "metadata": {},
   "outputs": [
    {
     "data": {
      "text/plain": [
       "country              object\n",
       "ElectricityPrice    float64\n",
       "GasPrice            float64\n",
       "Year                  int64\n",
       "dtype: object"
      ]
     },
     "metadata": {},
     "output_type": "display_data"
    }
   ],
   "source": [
    "display( df_work.dtypes )"
   ]
  },
  {
   "cell_type": "markdown",
   "id": "9c247cdb-0885-4d00-8e15-ff063494f52f",
   "metadata": {},
   "source": [
    "Se muestra un ejemplo de los datos del dataset de trabajo que consta de 160 registros"
   ]
  },
  {
   "cell_type": "code",
   "execution_count": 260,
   "id": "009927a6-db22-4181-af68-58fe349f315c",
   "metadata": {},
   "outputs": [
    {
     "data": {
      "text/html": [
       "<div>\n",
       "<style scoped>\n",
       "    .dataframe tbody tr th:only-of-type {\n",
       "        vertical-align: middle;\n",
       "    }\n",
       "\n",
       "    .dataframe tbody tr th {\n",
       "        vertical-align: top;\n",
       "    }\n",
       "\n",
       "    .dataframe thead th {\n",
       "        text-align: right;\n",
       "    }\n",
       "</style>\n",
       "<table border=\"1\" class=\"dataframe\">\n",
       "  <thead>\n",
       "    <tr style=\"text-align: right;\">\n",
       "      <th></th>\n",
       "      <th>country</th>\n",
       "      <th>ElectricityPrice</th>\n",
       "      <th>GasPrice</th>\n",
       "      <th>Year</th>\n",
       "    </tr>\n",
       "  </thead>\n",
       "  <tbody>\n",
       "    <tr>\n",
       "      <th>0</th>\n",
       "      <td>AT</td>\n",
       "      <td>0.0598</td>\n",
       "      <td>0.0299</td>\n",
       "      <td>2017</td>\n",
       "    </tr>\n",
       "    <tr>\n",
       "      <th>1</th>\n",
       "      <td>BA</td>\n",
       "      <td>0.0649</td>\n",
       "      <td>0.0240</td>\n",
       "      <td>2017</td>\n",
       "    </tr>\n",
       "    <tr>\n",
       "      <th>2</th>\n",
       "      <td>BE</td>\n",
       "      <td>0.0672</td>\n",
       "      <td>0.0283</td>\n",
       "      <td>2017</td>\n",
       "    </tr>\n",
       "    <tr>\n",
       "      <th>3</th>\n",
       "      <td>BG</td>\n",
       "      <td>0.0817</td>\n",
       "      <td>0.0170</td>\n",
       "      <td>2017</td>\n",
       "    </tr>\n",
       "    <tr>\n",
       "      <th>4</th>\n",
       "      <td>CZ</td>\n",
       "      <td>0.0580</td>\n",
       "      <td>0.0360</td>\n",
       "      <td>2017</td>\n",
       "    </tr>\n",
       "    <tr>\n",
       "      <th>...</th>\n",
       "      <td>...</td>\n",
       "      <td>...</td>\n",
       "      <td>...</td>\n",
       "      <td>...</td>\n",
       "    </tr>\n",
       "    <tr>\n",
       "      <th>155</th>\n",
       "      <td>SI</td>\n",
       "      <td>0.0641</td>\n",
       "      <td>0.0264</td>\n",
       "      <td>2021</td>\n",
       "    </tr>\n",
       "    <tr>\n",
       "      <th>156</th>\n",
       "      <td>SK</td>\n",
       "      <td>0.0725</td>\n",
       "      <td>0.0195</td>\n",
       "      <td>2021</td>\n",
       "    </tr>\n",
       "    <tr>\n",
       "      <th>157</th>\n",
       "      <td>TR</td>\n",
       "      <td>0.0518</td>\n",
       "      <td>0.0110</td>\n",
       "      <td>2021</td>\n",
       "    </tr>\n",
       "    <tr>\n",
       "      <th>158</th>\n",
       "      <td>UA</td>\n",
       "      <td>0.0793</td>\n",
       "      <td>0.0306</td>\n",
       "      <td>2021</td>\n",
       "    </tr>\n",
       "    <tr>\n",
       "      <th>159</th>\n",
       "      <td>UK</td>\n",
       "      <td>0.0793</td>\n",
       "      <td>0.0306</td>\n",
       "      <td>2021</td>\n",
       "    </tr>\n",
       "  </tbody>\n",
       "</table>\n",
       "<p>160 rows × 4 columns</p>\n",
       "</div>"
      ],
      "text/plain": [
       "    country  ElectricityPrice  GasPrice  Year\n",
       "0        AT            0.0598    0.0299  2017\n",
       "1        BA            0.0649    0.0240  2017\n",
       "2        BE            0.0672    0.0283  2017\n",
       "3        BG            0.0817    0.0170  2017\n",
       "4        CZ            0.0580    0.0360  2017\n",
       "..      ...               ...       ...   ...\n",
       "155      SI            0.0641    0.0264  2021\n",
       "156      SK            0.0725    0.0195  2021\n",
       "157      TR            0.0518    0.0110  2021\n",
       "158      UA            0.0793    0.0306  2021\n",
       "159      UK            0.0793    0.0306  2021\n",
       "\n",
       "[160 rows x 4 columns]"
      ]
     },
     "metadata": {},
     "output_type": "display_data"
    }
   ],
   "source": [
    "display( df_work )"
   ]
  },
  {
   "cell_type": "markdown",
   "id": "58a06241-ceb8-4ae2-bab9-a3378956a46b",
   "metadata": {},
   "source": [
    "#### Diagrama de dispersión entre los precios de la electricidad y del gas \n",
    "\n",
    "Para comprobar la dependencia y la correlación entre los precios de la electricidad y el gas de manera gráfica, se muestra el diagrama  de dispersión"
   ]
  },
  {
   "cell_type": "code",
   "execution_count": 261,
   "id": "ab69ec45-3245-4cc9-889d-77d53b8d86be",
   "metadata": {},
   "outputs": [
    {
     "data": {
      "image/png": "[encoded data removed]",
      "text/plain": [
       "<Figure size 432x288 with 1 Axes>"
      ]
     },
     "metadata": {},
     "output_type": "display_data"
    }
   ],
   "source": [
    "df_work.plot(kind='scatter', x = \"ElectricityPrice\", y =\"GasPrice\", color = \"blue\")\n",
    "\n",
    "plt.show()"
   ]
  },
  {
   "cell_type": "markdown",
   "id": "1b64ebd6-399a-480f-807a-f04e011e6007",
   "metadata": {},
   "source": [
    "#### Valores de los precios de la electricidad\n",
    "\n",
    "Se obtienen los valores del precio de la electricidad que se usarán en apartados posteriores:"
   ]
  },
  {
   "cell_type": "code",
   "execution_count": 262,
   "id": "fed6ccb8-9a4d-4d29-82cd-ab440da9c044",
   "metadata": {},
   "outputs": [
    {
     "data": {
      "text/plain": [
       "array([0.0598 , 0.0649 , 0.0672 , 0.0817 , 0.058  , 0.0468 , 0.0433 ,\n",
       "       0.0406 , 0.081  , 0.1541 , 0.0641 , 0.05895, 0.0574 , 0.0536 ,\n",
       "       0.0959 , 0.0949 , 0.0461 , 0.0581 , 0.0515 , 0.0675 , 0.0517 ,\n",
       "       0.05895, 0.0629 , 0.0599 , 0.0468 , 0.0364 , 0.0348 , 0.044  ,\n",
       "       0.0464 , 0.0533 , 0.05895, 0.0871 , 0.061  , 0.0621 , 0.0624 ,\n",
       "       0.081  , 0.0602 , 0.0612 , 0.0514 , 0.0489 , 0.0876 , 0.1877 ,\n",
       "       0.0636 , 0.0364 , 0.0613 , 0.0573 , 0.1091 , 0.1022 , 0.0488 ,\n",
       "       0.058  , 0.054  , 0.0646 , 0.0505 , 0.0602 , 0.0609 , 0.0593 ,\n",
       "       0.0539 , 0.0389 , 0.0434 , 0.051  , 0.0526 , 0.0446 , 0.0602 ,\n",
       "       0.1015 , 0.0654 , 0.0624 , 0.0663 , 0.0764 , 0.0721 , 0.0525 ,\n",
       "       0.0517 , 0.0516 , 0.0912 , 0.1242 , 0.0685 , 0.0363 , 0.0756 ,\n",
       "       0.0695 , 0.1236 , 0.1112 , 0.0542 , 0.0615 , 0.0597 , 0.0609 ,\n",
       "       0.0515 , 0.0636 , 0.0602 , 0.0674 , 0.0636 , 0.0395 , 0.0462 ,\n",
       "       0.0577 , 0.0633 , 0.066  , 0.0636 , 0.0912 , 0.0702 , 0.0648 ,\n",
       "       0.0745 , 0.073  , 0.0811 , 0.0651 , 0.0426 , 0.044  , 0.0933 ,\n",
       "       0.0854 , 0.0757 , 0.0413 , 0.0728 , 0.068  , 0.1189 , 0.1067 ,\n",
       "       0.0473 , 0.0607 , 0.0567 , 0.0637 , 0.054  , 0.067  , 0.067  ,\n",
       "       0.0806 , 0.0711 , 0.0393 , 0.0373 , 0.0639 , 0.0721 , 0.0516 ,\n",
       "       0.0599 , 0.067  , 0.0723 , 0.0793 , 0.089  , 0.1075 , 0.0848 ,\n",
       "       0.0707 , 0.0898 , 0.085  , 0.1444 , 0.0901 , 0.0793 , 0.0634 ,\n",
       "       0.0818 , 0.0762 , 0.1571 , 0.1353 , 0.0809 , 0.072  , 0.0787 ,\n",
       "       0.0542 , 0.0996 , 0.0793 , 0.0651 , 0.0744 , 0.0801 , 0.0379 ,\n",
       "       0.0692 , 0.0641 , 0.0725 , 0.0518 , 0.0793 , 0.0793 ])"
      ]
     },
     "metadata": {},
     "output_type": "display_data"
    }
   ],
   "source": [
    "electricityPriceValues = df_work.loc[:, \"ElectricityPrice\"].to_numpy() \n",
    "\n",
    "display( electricityPriceValues )"
   ]
  },
  {
   "cell_type": "markdown",
   "id": "3913ca75-1a48-467a-b7bc-035a34daae04",
   "metadata": {},
   "source": [
    "#### Valores de los precios del gas\n",
    "\n",
    "Se obtienen los valores del precio de la gas que se usarńa en apartados posteriores:"
   ]
  },
  {
   "cell_type": "code",
   "execution_count": 263,
   "id": "c9c97dd2-484a-4a98-94a8-5b0b5a6ab691",
   "metadata": {},
   "outputs": [
    {
     "data": {
      "text/plain": [
       "array([0.0299 , 0.024  , 0.0283 , 0.017  , 0.036  , 0.0243 , 0.0234 ,\n",
       "       0.0234 , 0.0243 , 0.0243 , 0.031  , 0.0243 , 0.0206 , 0.019  ,\n",
       "       0.0302 , 0.0243 , 0.0174 , 0.0216 , 0.0207 , 0.0234 , 0.0371 ,\n",
       "       0.0293 , 0.0237 , 0.0333 , 0.0168 , 0.0264 , 0.0314 , 0.0243 ,\n",
       "       0.0213 , 0.0159 , 0.0243 , 0.0308 , 0.0304 , 0.024  , 0.0288 ,\n",
       "       0.0209 , 0.039  , 0.0254 , 0.0259 , 0.0239 , 0.0311 , 0.0254 ,\n",
       "       0.0317 , 0.008  , 0.0212 , 0.0183 , 0.0304 , 0.0254 , 0.0216 ,\n",
       "       0.0245 , 0.023  , 0.0186 , 0.0357 , 0.0305 , 0.0246 , 0.0326 ,\n",
       "       0.0197 , 0.0266 , 0.0405 , 0.0255 , 0.0218 , 0.0118 , 0.     ,\n",
       "       0.0329 , 0.0312 , 0.0249 , 0.0289 , 0.024  , 0.0455 , 0.0278 ,\n",
       "       0.0209 , 0.0253 , 0.0338 , 0.0318 , 0.0342 , 0.0075 , 0.0229 ,\n",
       "       0.0184 , 0.0351 , 0.0366 , 0.0238 , 0.0258 , 0.0227 , 0.021  ,\n",
       "       0.0454 , 0.0339 , 0.0274 , 0.0347 , 0.0204 , 0.0267 , 0.0405 ,\n",
       "       0.0267 , 0.0234 , 0.0142 , 0.     , 0.0346 , 0.0308 , 0.0258 ,\n",
       "       0.0252 , 0.0177 , 0.0431 , 0.0292 , 0.016  , 0.024  , 0.0258 ,\n",
       "       0.0277 , 0.031  , 0.0059 , 0.0234 , 0.0156 , 0.0325 , 0.0327 ,\n",
       "       0.0183 , 0.0212 , 0.0133 , 0.0194 , 0.038  , 0.0316 , 0.0243 ,\n",
       "       0.0357 , 0.0192 , 0.0265 , 0.045  , 0.0254 , 0.024  , 0.0126 ,\n",
       "       0.0183 , 0.02555, 0.0316 , 0.0251 , 0.0315 , 0.0331 , 0.0448 ,\n",
       "       0.0293 , 0.0415 , 0.0361 , 0.0444 , 0.0313 , 0.0325 , 0.0058 ,\n",
       "       0.0221 , 0.0164 , 0.0328 , 0.0354 , 0.0182 , 0.0291 , 0.0184 ,\n",
       "       0.0232 , 0.0396 , 0.03   , 0.0236 , 0.0341 , 0.0237 , 0.0263 ,\n",
       "       0.0817 , 0.0264 , 0.0195 , 0.011  , 0.0306 , 0.0306 ])"
      ]
     },
     "metadata": {},
     "output_type": "display_data"
    }
   ],
   "source": [
    "gasPriceValues = df_work.loc[:, \"GasPrice\"].to_numpy() \n",
    "\n",
    "display( gasPriceValues )"
   ]
  },
  {
   "cell_type": "markdown",
   "id": "3d62531e-8a6a-4a69-8a2f-4e9adb9b8575",
   "metadata": {},
   "source": [
    "## Análisis de la normalidad y homogeneidad de la varianza"
   ]
  },
  {
   "cell_type": "markdown",
   "id": "c1aaa80c-8122-41f6-aa1a-686527115a65",
   "metadata": {},
   "source": [
    "### Normalidad"
   ]
  },
  {
   "cell_type": "markdown",
   "id": "4ca77546-2b81-46d4-a03d-f2017d6e0cbb",
   "metadata": {},
   "source": [
    "#### Análisis gráfico\n",
    "\n",
    "Se crean los gráficos cuartil-cuartil para ver cuanto se aproximan a la normalidad ambas distribuciones"
   ]
  },
  {
   "cell_type": "markdown",
   "id": "295ebb13-9b89-41a3-a761-ba86b7096b97",
   "metadata": {},
   "source": [
    "##### **Precios de la electricidad**"
   ]
  },
  {
   "cell_type": "code",
   "execution_count": 264,
   "id": "a2c5af35-d24e-49be-ac7e-696bd6523c32",
   "metadata": {},
   "outputs": [
    {
     "data": {
      "image/png": "[encoded data removed]",
      "text/plain": [
       "<Figure size 432x288 with 1 Axes>"
      ]
     },
     "metadata": {},
     "output_type": "display_data"
    }
   ],
   "source": [
    "sm.qqplot( electricityPriceValues, line='q' )\n",
    "\n",
    "plt.show()"
   ]
  },
  {
   "cell_type": "markdown",
   "id": "d27b419d-46a0-4173-8859-2a206205b980",
   "metadata": {
    "tags": []
   },
   "source": [
    "*Se puede ver que existe valores centrales de la muestra que si se ajusta a una distribución normal.*"
   ]
  },
  {
   "cell_type": "markdown",
   "id": "3cd57b9c-72c2-4c94-bdb7-8aeaa6d73bb3",
   "metadata": {
    "tags": []
   },
   "source": [
    "##### **Precios del gas**"
   ]
  },
  {
   "cell_type": "code",
   "execution_count": 265,
   "id": "4eb69d09-5cd9-4c13-b4e4-8d10c45a273b",
   "metadata": {},
   "outputs": [
    {
     "data": {
      "image/png": "[encoded data removed]",
      "text/plain": [
       "<Figure size 432x288 with 1 Axes>"
      ]
     },
     "metadata": {},
     "output_type": "display_data"
    }
   ],
   "source": [
    "fig2 = sm.qqplot( gasPriceValues, line='q' )\n",
    "plt.show()"
   ]
  },
  {
   "cell_type": "markdown",
   "id": "8e18fed3-4616-4ba5-9d22-83cba56def83",
   "metadata": {
    "tags": []
   },
   "source": [
    "*Exactamente que en el caso anterior.*"
   ]
  },
  {
   "cell_type": "markdown",
   "id": "7afd9ab7-8776-4144-8272-fcb83a4c1e0e",
   "metadata": {},
   "source": [
    "##### **Preparamos los datasets para trabajar en profundidad** #####"
   ]
  },
  {
   "cell_type": "code",
   "execution_count": 266,
   "id": "001131fc-016e-4712-97d8-44c754ee7a9b",
   "metadata": {},
   "outputs": [],
   "source": [
    "electricity = ElectPricesHouseholds[[\"country_name\", \"2017\", \"2018\", \"2019\", \"2020\", \"2021\"]]\n",
    "gas = GasPricesHousehold[[\"country_name\", \"2017\", \"2018\", \"2019\", \"2020\", \"2021\"]]"
   ]
  },
  {
   "cell_type": "code",
   "execution_count": 267,
   "id": "4b6ca89a-b336-4620-9d4a-8989e73d8c85",
   "metadata": {},
   "outputs": [],
   "source": [
    "gas.loc[gas.country_name == \"Germany (until 1990 former territory of the FRG)\", \"country_name\"] = 'Germany'\n",
    "electricity.loc[electricity.country_name == \"Germany (until 1990 former territory of the FRG)\", \"country_name\"] = 'Germany'\n",
    "\n",
    "gas.loc[gas.country_name == \"European Union - 27 countries (from 2020)\", \"country_name\"] = 'EU Country'\n",
    "electricity.loc[electricity.country_name == \"European Union - 27 countries (from 2020)\", \"country_name\"] = 'EU Country'\n",
    "\n",
    "gas.loc[gas.country_name == \"Euro area (EA11-1999, EA12-2001, EA13-2007, EA15-2008, EA16-2009, EA17-2011, EA18-2014, EA19-2015)\", \"country_name\"] = 'EU Area'\n",
    "electricity.loc[electricity.country_name == \"Euro area (EA11-1999, EA12-2001, EA13-2007, EA15-2008, EA16-2009, EA17-2011, EA18-2014, EA19-2015)\", \"country_name\"] = 'EU Area'\n",
    "\n",
    "gas.loc[gas.country_name == \"Kosovo (under United Nations Security Council Resolution 1244/99)\", \"country_name\"] = 'Kosovo'\n",
    "electricity.loc[electricity.country_name == \"Kosovo (under United Nations Security Council Resolution 1244/99)\", \"country_name\"] = 'Kosovo'"
   ]
  },
  {
   "cell_type": "code",
   "execution_count": 268,
   "id": "a3dcef05-dce5-4e62-9124-d1d837f702b6",
   "metadata": {},
   "outputs": [],
   "source": [
    "gas_countries = gas.country_name.values\n",
    "electric_countries = electricity.country_name.values\n",
    "countries_both = [x for x in gas_countries if x in electric_countries]\n",
    "electricity = electricity[electricity.country_name.isin(countries_both)]\n",
    "gas = gas[gas.country_name.isin(countries_both)]"
   ]
  },
  {
   "cell_type": "code",
   "execution_count": 269,
   "id": "63172b4d-1b32-42ab-92d8-f4acec85acea",
   "metadata": {},
   "outputs": [],
   "source": [
    "pivoted_gas = pd.pivot_table(gas, columns = \"country_name\")\n",
    "pivoted_electricity = pd.pivot_table(electricity, columns = \"country_name\")"
   ]
  },
  {
   "cell_type": "markdown",
   "id": "c631ea79-4af5-47b5-a355-703db03aac9d",
   "metadata": {},
   "source": [
    "## Aplicación de pruebas estadísticas"
   ]
  },
  {
   "cell_type": "markdown",
   "id": "8fa6d9df-7671-40f6-9573-9690d112bdfe",
   "metadata": {},
   "source": [
    "*Pasamos a realizar los contrastes de hipótesis básicos para analizar el valor estadístico de calidad de la muestra*"
   ]
  },
  {
   "cell_type": "code",
   "execution_count": 270,
   "id": "ff1c9c4c-df8c-4408-a52b-7f802a31496a",
   "metadata": {},
   "outputs": [],
   "source": [
    "def check_normality(df):\n",
    "    groups = np.array([])\n",
    "    for group in df.columns:\n",
    "        groups = np.append(groups, df[group].values)\n",
    "    stat, p = shapiro(groups[~np.isnan(groups)])\n",
    "    print(f\"Test shapiro, estadistico {stat} y pvalor {p}, H0 los datos siguen una distribucion normal\\n\")\n",
    "    if p < 0.05:\n",
    "        print(f\"Probablemente los datos NO siguen una normal\")\n",
    "    else:\n",
    "        print(f\"Probablemente los datos SI siguen una normal\")\n",
    "        \n",
    "        \n",
    "def check_preconditions(df1, df2):\n",
    "    print(\"-\"*70)\n",
    "    print(\"Checkeando normalidad para todo el dataframe\")\n",
    "    print(\"-\"*70)\n",
    "    print(f\"Primer dataframe:\")\n",
    "    check_normality(df1)\n",
    "    print(\"-\"*70)\n",
    "    print(f\"Segundo dataframe:\")\n",
    "    check_normality(df2)\n",
    "    print()\n",
    "    print(\"-\"*70)\n",
    "    print(\"Checkeando homogeneidad de la varianza para los dos datasets\")\n",
    "    print(\"-\"*70)\n",
    "    check_homo_var(df1, df2)\n",
    "    "
   ]
  },
  {
   "cell_type": "code",
   "execution_count": 271,
   "id": "10329569-5a27-4338-96c1-2056e09a22b1",
   "metadata": {},
   "outputs": [
    {
     "name": "stdout",
     "output_type": "stream",
     "text": [
      "----------------------------------------------------------------------\n",
      "Checkeando normalidad para todo el dataframe\n",
      "----------------------------------------------------------------------\n",
      "Primer dataframe:\n",
      "Test shapiro, estadistico 0.868183970451355 y pvalor 4.7169740335917254e-11, H0 los datos siguen una distribucion normal\n",
      "\n",
      "Probablemente los datos NO siguen una normal\n",
      "----------------------------------------------------------------------\n",
      "Segundo dataframe:\n",
      "Test shapiro, estadistico 0.9178404808044434 y pvalor 3.387682312450124e-08, H0 los datos siguen una distribucion normal\n",
      "\n",
      "Probablemente los datos NO siguen una normal\n",
      "\n",
      "----------------------------------------------------------------------\n",
      "Checkeando homogeneidad de la varianza para los dos datasets\n",
      "----------------------------------------------------------------------\n",
      "Bartlett test para, H0 los datos tienen homogeneidad en las varianzas\n",
      "\n",
      "Test bartlett, estadistico 130.8732383104749 y pvalor 2.6393361755798005e-30\n",
      "Probablemente NO homogeneidad en las varianzas\n",
      "\n"
     ]
    }
   ],
   "source": [
    "check_preconditions(pivoted_electricity, pivoted_gas)"
   ]
  },
  {
   "cell_type": "markdown",
   "id": "e6cdf817-43fa-47d1-aa5f-c8d3bc06965d",
   "metadata": {},
   "source": [
    "***En las muestras generales no encontramos ni normalidad ni correlación.\n",
    "Pasamos a analizarlo por cada muestra de cada país, pues por las gráficas iniciales, se ven subconjuntos con normalidad, probablemente sea por país.\n",
    "Además no podemos apoyarnos en el teorema central del limite, ya que tendriamos que asumir que el precio en los diferentes paises de gas y electricidad son independientes, asi que checkearemos pais por pais.***"
   ]
  },
  {
   "cell_type": "code",
   "execution_count": 285,
   "id": "00dc84c5-3379-4ae4-997e-5080865a0b18",
   "metadata": {
    "tags": []
   },
   "outputs": [],
   "source": [
    "def check_normality_each_country(df):\n",
    "    for col in df.columns:      \n",
    "        stat, p = shapiro(df[col])\n",
    "        print(\"-\"*70)\n",
    "        print(f\"Test para {col}:\")\n",
    "        print(f\"Test shapiro, estadistico {stat} y pvalor {p}, H0 los datos siguen una distribucion normal\\n\")\n",
    "        if p < 0.05:\n",
    "            print(f\"Probablemente los datos NO siguen una normal\\n\")\n",
    "        else:\n",
    "            print(f\"Probablemente los datos SI siguen una normal\\n\")\n",
    "\n"
   ]
  },
  {
   "cell_type": "code",
   "execution_count": 286,
   "id": "f1c29599-99f7-4dcb-b519-1d8d14187e3e",
   "metadata": {},
   "outputs": [
    {
     "name": "stdout",
     "output_type": "stream",
     "text": [
      "----------------------------------------------------------------------\n",
      "Test para Austria:\n",
      "Test shapiro, estadistico 0.9899673461914062 y pvalor 0.9795799851417542, H0 los datos siguen una distribucion normal\n",
      "\n",
      "Probablemente los datos SI siguen una normal\n",
      "\n",
      "----------------------------------------------------------------------\n",
      "Test para Belgium:\n",
      "Test shapiro, estadistico 0.9303292632102966 y pvalor 0.5986178517341614, H0 los datos siguen una distribucion normal\n",
      "\n",
      "Probablemente los datos SI siguen una normal\n",
      "\n",
      "----------------------------------------------------------------------\n",
      "Test para Bosnia and Herzegovina:\n",
      "Test shapiro, estadistico 0.9009255766868591 y pvalor 0.41502219438552856, H0 los datos siguen una distribucion normal\n",
      "\n",
      "Probablemente los datos SI siguen una normal\n",
      "\n",
      "----------------------------------------------------------------------\n",
      "Test para Bulgaria:\n",
      "Test shapiro, estadistico 0.8762538433074951 y pvalor 0.2926786243915558, H0 los datos siguen una distribucion normal\n",
      "\n",
      "Probablemente los datos SI siguen una normal\n",
      "\n",
      "----------------------------------------------------------------------\n",
      "Test para Croatia:\n",
      "Test shapiro, estadistico 0.9603146910667419 y pvalor 0.8101732134819031, H0 los datos siguen una distribucion normal\n",
      "\n",
      "Probablemente los datos SI siguen una normal\n",
      "\n",
      "----------------------------------------------------------------------\n",
      "Test para Czechia:\n",
      "Test shapiro, estadistico 0.9044991731643677 y pvalor 0.43524986505508423, H0 los datos siguen una distribucion normal\n",
      "\n",
      "Probablemente los datos SI siguen una normal\n",
      "\n",
      "----------------------------------------------------------------------\n",
      "Test para Denmark:\n",
      "Test shapiro, estadistico 0.8861088752746582 y pvalor 0.3379155099391937, H0 los datos siguen una distribucion normal\n",
      "\n",
      "Probablemente los datos SI siguen una normal\n",
      "\n",
      "----------------------------------------------------------------------\n",
      "Test para EU Area:\n",
      "Test shapiro, estadistico 0.9276749491691589 y pvalor 0.5806032419204712, H0 los datos siguen una distribucion normal\n",
      "\n",
      "Probablemente los datos SI siguen una normal\n",
      "\n",
      "----------------------------------------------------------------------\n",
      "Test para EU Country:\n",
      "Test shapiro, estadistico 0.9457552433013916 y pvalor 0.7068579792976379, H0 los datos siguen una distribucion normal\n",
      "\n",
      "Probablemente los datos SI siguen una normal\n",
      "\n",
      "----------------------------------------------------------------------\n",
      "Test para Estonia:\n",
      "Test shapiro, estadistico 0.6631652116775513 y pvalor 0.003786858869716525, H0 los datos siguen una distribucion normal\n",
      "\n",
      "Probablemente los datos NO siguen una normal\n",
      "\n",
      "----------------------------------------------------------------------\n",
      "Test para France:\n",
      "Test shapiro, estadistico 0.866613507270813 y pvalor 0.25298017263412476, H0 los datos siguen una distribucion normal\n",
      "\n",
      "Probablemente los datos SI siguen una normal\n",
      "\n",
      "----------------------------------------------------------------------\n",
      "Test para Georgia:\n",
      "Test shapiro, estadistico 0.6589559316635132 y pvalor 0.0033876807428896427, H0 los datos siguen una distribucion normal\n",
      "\n",
      "Probablemente los datos NO siguen una normal\n",
      "\n",
      "----------------------------------------------------------------------\n",
      "Test para Germany:\n",
      "Test shapiro, estadistico 0.8805429339408875 y pvalor 0.31177860498428345, H0 los datos siguen una distribucion normal\n",
      "\n",
      "Probablemente los datos SI siguen una normal\n",
      "\n",
      "----------------------------------------------------------------------\n",
      "Test para Greece:\n",
      "Test shapiro, estadistico 0.9151363968849182 y pvalor 0.49906301498413086, H0 los datos siguen una distribucion normal\n",
      "\n",
      "Probablemente los datos SI siguen una normal\n",
      "\n",
      "----------------------------------------------------------------------\n",
      "Test para Hungary:\n",
      "Test shapiro, estadistico 0.8836076855659485 y pvalor 0.3259800672531128, H0 los datos siguen una distribucion normal\n",
      "\n",
      "Probablemente los datos SI siguen una normal\n",
      "\n",
      "----------------------------------------------------------------------\n",
      "Test para Ireland:\n",
      "Test shapiro, estadistico 0.913966953754425 y pvalor 0.49179238080978394, H0 los datos siguen una distribucion normal\n",
      "\n",
      "Probablemente los datos SI siguen una normal\n",
      "\n",
      "----------------------------------------------------------------------\n",
      "Test para Italy:\n",
      "Test shapiro, estadistico 0.8638687133789062 y pvalor 0.24247416853904724, H0 los datos siguen una distribucion normal\n",
      "\n",
      "Probablemente los datos SI siguen una normal\n",
      "\n",
      "----------------------------------------------------------------------\n",
      "Test para Latvia:\n",
      "Test shapiro, estadistico 0.8821401596069336 y pvalor 0.31912195682525635, H0 los datos siguen una distribucion normal\n",
      "\n",
      "Probablemente los datos SI siguen una normal\n",
      "\n",
      "----------------------------------------------------------------------\n",
      "Test para Lithuania:\n",
      "Test shapiro, estadistico 0.8642815947532654 y pvalor 0.24403248727321625, H0 los datos siguen una distribucion normal\n",
      "\n",
      "Probablemente los datos SI siguen una normal\n",
      "\n",
      "----------------------------------------------------------------------\n",
      "Test para Luxembourg:\n",
      "Test shapiro, estadistico 0.9314118027687073 y pvalor 0.6060293912887573, H0 los datos siguen una distribucion normal\n",
      "\n",
      "Probablemente los datos SI siguen una normal\n",
      "\n",
      "----------------------------------------------------------------------\n",
      "Test para Moldova:\n",
      "Test shapiro, estadistico 0.895110011100769 y pvalor 0.38345181941986084, H0 los datos siguen una distribucion normal\n",
      "\n",
      "Probablemente los datos SI siguen una normal\n",
      "\n",
      "----------------------------------------------------------------------\n",
      "Test para Netherlands:\n",
      "Test shapiro, estadistico 0.9197801351547241 y pvalor 0.5285221934318542, H0 los datos siguen una distribucion normal\n",
      "\n",
      "Probablemente los datos SI siguen una normal\n",
      "\n",
      "----------------------------------------------------------------------\n",
      "Test para North Macedonia:\n",
      "Test shapiro, estadistico 0.8768107295036316 y pvalor 0.2951079308986664, H0 los datos siguen una distribucion normal\n",
      "\n",
      "Probablemente los datos SI siguen una normal\n",
      "\n",
      "----------------------------------------------------------------------\n",
      "Test para Poland:\n",
      "Test shapiro, estadistico 0.7781590819358826 y pvalor 0.0531456395983696, H0 los datos siguen una distribucion normal\n",
      "\n",
      "Probablemente los datos SI siguen una normal\n",
      "\n",
      "----------------------------------------------------------------------\n",
      "Test para Portugal:\n",
      "Test shapiro, estadistico 0.9903190732002258 y pvalor 0.9808000922203064, H0 los datos siguen una distribucion normal\n",
      "\n",
      "Probablemente los datos SI siguen una normal\n",
      "\n",
      "----------------------------------------------------------------------\n",
      "Test para Romania:\n",
      "Test shapiro, estadistico 0.9580806493759155 y pvalor 0.7945586442947388, H0 los datos siguen una distribucion normal\n",
      "\n",
      "Probablemente los datos SI siguen una normal\n",
      "\n",
      "----------------------------------------------------------------------\n",
      "Test para Serbia:\n",
      "Test shapiro, estadistico 0.9867621660232544 y pvalor 0.9671739339828491, H0 los datos siguen una distribucion normal\n",
      "\n",
      "Probablemente los datos SI siguen una normal\n",
      "\n",
      "----------------------------------------------------------------------\n",
      "Test para Slovakia:\n",
      "Test shapiro, estadistico 0.9602929949760437 y pvalor 0.8100219368934631, H0 los datos siguen una distribucion normal\n",
      "\n",
      "Probablemente los datos SI siguen una normal\n",
      "\n",
      "----------------------------------------------------------------------\n",
      "Test para Slovenia:\n",
      "Test shapiro, estadistico 0.9442073702812195 y pvalor 0.6958163976669312, H0 los datos siguen una distribucion normal\n",
      "\n",
      "Probablemente los datos SI siguen una normal\n",
      "\n",
      "----------------------------------------------------------------------\n",
      "Test para Spain:\n",
      "Test shapiro, estadistico 0.8963978290557861 y pvalor 0.3902978301048279, H0 los datos siguen una distribucion normal\n",
      "\n",
      "Probablemente los datos SI siguen una normal\n",
      "\n",
      "----------------------------------------------------------------------\n",
      "Test para Sweden:\n",
      "Test shapiro, estadistico 0.7774146795272827 y pvalor 0.05236475169658661, H0 los datos siguen una distribucion normal\n",
      "\n",
      "Probablemente los datos SI siguen una normal\n",
      "\n",
      "----------------------------------------------------------------------\n",
      "Test para Turkey:\n",
      "Test shapiro, estadistico 0.9555109143257141 y pvalor 0.7764301300048828, H0 los datos siguen una distribucion normal\n",
      "\n",
      "Probablemente los datos SI siguen una normal\n",
      "\n",
      "----------------------------------------------------------------------\n",
      "Test para Ukraine:\n",
      "Test shapiro, estadistico 0.8690097332000732 y pvalor 0.26243698596954346, H0 los datos siguen una distribucion normal\n",
      "\n",
      "Probablemente los datos SI siguen una normal\n",
      "\n",
      "----------------------------------------------------------------------\n",
      "Test para United Kingdom:\n",
      "Test shapiro, estadistico 0.9300695657730103 y pvalor 0.5968450903892517, H0 los datos siguen una distribucion normal\n",
      "\n",
      "Probablemente los datos SI siguen una normal\n",
      "\n"
     ]
    }
   ],
   "source": [
    "check_normality_each_country(pivoted_gas)"
   ]
  },
  {
   "cell_type": "markdown",
   "id": "ef2da587-1d4c-4ba9-bc46-8c5220068158",
   "metadata": {},
   "source": [
    "***Efectivamente tal y como nos hizo sospechar las gráficas inciales si encontramos países cuyos precios se ajustan a la normalidad.***"
   ]
  },
  {
   "cell_type": "markdown",
   "id": "1f162565-00bc-4545-9e04-907b1e6ed1d4",
   "metadata": {},
   "source": [
    "### Estudio de la correlación"
   ]
  },
  {
   "cell_type": "code",
   "execution_count": 274,
   "id": "5627cbc6-2710-4b76-8934-c9b243bef092",
   "metadata": {},
   "outputs": [],
   "source": [
    "def check_homo_var(df1, df2):\n",
    "    group1 = np.array([])\n",
    "    for group in df1.columns:\n",
    "        group1 = np.append(group1, df1[group].values)\n",
    "    group2 = np.array([])\n",
    "    for group in df2.columns:\n",
    "        group2 = np.append(group2, df2[group].values)\n",
    "    stat, p = bartlett(group1[~np.isnan(group1)], group2[~np.isnan(group2)])\n",
    "              \n",
    "    print(f\"Bartlett test para, H0 los datos tienen homogeneidad en las varianzas\\n\")\n",
    "    print(f\"Test bartlett, estadistico {stat} y pvalor {p}\")\n",
    "    if p < 0.05:\n",
    "        print(f\"Probablemente NO homogeneidad en las varianzas\\n\")\n",
    "    else:\n",
    "        print(f\"Probablemente SI homogeneidad en las varianzas\\n\")\n",
    "      \n",
    "\n",
    "def check_correlation(df1, df2):\n",
    "    group1 = np.array([])\n",
    "    for group in df1.columns:\n",
    "        group1 = np.append(group1, df1[group].values)\n",
    "    group2 = np.array([])\n",
    "    for group in df2.columns:\n",
    "        group2 = np.append(group2, df2[group].values)\n",
    "    \n",
    "    indxs1 = np.isnan(group1)\n",
    "    indxs2 = np.isnan(group2)\n",
    "    indxs = indxs1 | indxs2 # indices que tienen nan en alguno de los dos df\n",
    "    \n",
    "    group1 = group1[~indxs]\n",
    "    group2 = group2[~indxs]\n",
    "    \n",
    "    stat, p = pearsonr(group1, group2)\n",
    "    print(f\"Test pearson, estadistico {stat} y pvalor {p}, H0 no estan correlacionadas\\n\")\n",
    "    if p < 0.05:\n",
    "        print(f\"Probablemente NO estan correlacionados\\n\")\n",
    "    else:\n",
    "        print(f\"Probablemente SI estan correlacionados\\n\")\n",
    "\n"
   ]
  },
  {
   "cell_type": "code",
   "execution_count": 275,
   "id": "7b4f86d7-7b75-45f5-87a7-b5b020a7ff1b",
   "metadata": {},
   "outputs": [
    {
     "name": "stdout",
     "output_type": "stream",
     "text": [
      "Bartlett test para, H0 los datos tienen homogeneidad en las varianzas\n",
      "\n",
      "Test bartlett, estadistico 130.8732383104749 y pvalor 2.6393361755798005e-30\n",
      "Probablemente NO homogeneidad en las varianzas\n",
      "\n",
      "Test pearson, estadistico 0.282540907419713 y pvalor 0.00018917062353675837, H0 no estan correlacionadas\n",
      "\n",
      "Probablemente NO estan correlacionados\n",
      "\n"
     ]
    }
   ],
   "source": [
    "check_homo_var(pivoted_electricity, pivoted_gas)\n",
    "check_correlation(pivoted_electricity, pivoted_gas)"
   ]
  },
  {
   "cell_type": "markdown",
   "id": "4a61e88f-0464-4053-a6e1-80e229170c4d",
   "metadata": {},
   "source": [
    "***Efectivamente, como en el caso anterior, no nos da correlación general de la muestra y además encontramos heterocedasticidad (Varianzas no constantes en la muestra, esto es un problema), pasamos a realizar por país.***"
   ]
  },
  {
   "cell_type": "code",
   "execution_count": 276,
   "id": "4a8f43bf-319f-43c4-8a1c-34c4c8a2ad75",
   "metadata": {},
   "outputs": [],
   "source": [
    "def plot_countries(gas, electricity, names):\n",
    "    fig, axs = plt.subplots(5, 8, figsize=(20,15), sharex=True)\n",
    "    k = 0\n",
    "    for i in range(5):\n",
    "        for j in range(8):\n",
    "            if k == len(names):\n",
    "                fig.delaxes(axs[i][j])\n",
    "                continue         \n",
    "            axs[i][j].plot(pivoted_gas.index, pivoted_gas[names[k]], color = 'r')\n",
    "            axs[i][j].plot(pivoted_electricity.index, pivoted_electricity[names[k]], color = 'g')\n",
    "            axs[i][j].set_title(f\"{names[k]}\")\n",
    "            k += 1\n",
    "    fig.legend(['Precio del gas en dolares', 'Precio de la electricidad en dolares'], loc='upper right')\n",
    "    fig.suptitle(\"Precio del gas y de la electricidad desde 2017 hasta 2021\")\n",
    "    plt.show()"
   ]
  },
  {
   "cell_type": "code",
   "execution_count": 277,
   "id": "dc693995-7341-41f4-ae89-08241626fd4c",
   "metadata": {},
   "outputs": [
    {
     "data": {
      "image/png": "[encoded data removed]",
      "text/plain": [
       "<Figure size 1440x1080 with 34 Axes>"
      ]
     },
     "metadata": {},
     "output_type": "display_data"
    }
   ],
   "source": [
    "plot_countries(pivoted_gas, pivoted_electricity, countries_both)"
   ]
  },
  {
   "cell_type": "markdown",
   "id": "8cf73efb-43fe-48cf-905b-3cdcfba2773f",
   "metadata": {},
   "source": [
    "***Aparentemente vemos correlación directa e inversa en los conjuntos por países, pasamos a chequear.***"
   ]
  },
  {
   "cell_type": "code",
   "execution_count": 278,
   "id": "0fec7666-a22e-4593-9543-4691ffb972df",
   "metadata": {},
   "outputs": [],
   "source": [
    "def check_homo_var_each_country(df1, df2):\n",
    "    group1 = np.array([])\n",
    "    group2 = np.array([])\n",
    "    for group in df1.columns:\n",
    "        group1 = np.append(group1, df1[group].values)\n",
    "        group2 = np.append(group2, df2[group].values)\n",
    "        stat, p = bartlett(group1[~np.isnan(group1)], group2[~np.isnan(group2)])   \n",
    "        print(\"-\"*70)\n",
    "        print(f\"Bartlett test para {group}, H0 los datos tienen homogeneidad en las varianzas\\n\")\n",
    "        print(f\"Estadistico {stat} y pvalor {p}\")\n",
    "        if p < 0.05:\n",
    "            print(f\"probablemente NO homogeneidad en las varianzas\")\n",
    "        else:\n",
    "            print(f\"probablemente SI homogeneidad en las varianzas\")\n",
    "        print(\"-\"*70)\n"
   ]
  },
  {
   "cell_type": "code",
   "execution_count": 279,
   "id": "b2c303f1-7b5e-45cb-8d9c-cea37143aed4",
   "metadata": {},
   "outputs": [
    {
     "name": "stdout",
     "output_type": "stream",
     "text": [
      "----------------------------------------------------------------------\n",
      "Bartlett test para Austria, H0 los datos tienen homogeneidad en las varianzas\n",
      "\n",
      "Estadistico 10.193735212469518 y pvalor 0.0014091858076003634\n",
      "probablemente NO homogeneidad en las varianzas\n",
      "----------------------------------------------------------------------\n",
      "----------------------------------------------------------------------\n",
      "Bartlett test para Belgium, H0 los datos tienen homogeneidad en las varianzas\n",
      "\n",
      "Estadistico 14.191634787699723 y pvalor 0.00016510287297749078\n",
      "probablemente NO homogeneidad en las varianzas\n",
      "----------------------------------------------------------------------\n",
      "----------------------------------------------------------------------\n",
      "Bartlett test para Bosnia and Herzegovina, H0 los datos tienen homogeneidad en las varianzas\n",
      "\n",
      "Estadistico 11.896558954264867 y pvalor 0.0005623773997189065\n",
      "probablemente NO homogeneidad en las varianzas\n",
      "----------------------------------------------------------------------\n",
      "----------------------------------------------------------------------\n",
      "Bartlett test para Bulgaria, H0 los datos tienen homogeneidad en las varianzas\n",
      "\n",
      "Estadistico 14.074119370282013 y pvalor 0.00017574544528976732\n",
      "probablemente NO homogeneidad en las varianzas\n",
      "----------------------------------------------------------------------\n",
      "----------------------------------------------------------------------\n",
      "Bartlett test para Croatia, H0 los datos tienen homogeneidad en las varianzas\n",
      "\n",
      "Estadistico 17.06256083524616 y pvalor 3.616834643278469e-05\n",
      "probablemente NO homogeneidad en las varianzas\n",
      "----------------------------------------------------------------------\n",
      "----------------------------------------------------------------------\n",
      "Bartlett test para Czechia, H0 los datos tienen homogeneidad en las varianzas\n",
      "\n",
      "Estadistico 4.3748755932672685 y pvalor 0.03647249268879289\n",
      "probablemente NO homogeneidad en las varianzas\n",
      "----------------------------------------------------------------------\n",
      "----------------------------------------------------------------------\n",
      "Bartlett test para Denmark, H0 los datos tienen homogeneidad en las varianzas\n",
      "\n",
      "Estadistico 9.901057401760188 y pvalor 0.0016518383204098415\n",
      "probablemente NO homogeneidad en las varianzas\n",
      "----------------------------------------------------------------------\n",
      "----------------------------------------------------------------------\n",
      "Bartlett test para EU Area, H0 los datos tienen homogeneidad en las varianzas\n",
      "\n",
      "Estadistico 13.30503294380453 y pvalor 0.0002646946406197282\n",
      "probablemente NO homogeneidad en las varianzas\n",
      "----------------------------------------------------------------------\n",
      "----------------------------------------------------------------------\n",
      "Bartlett test para EU Country, H0 los datos tienen homogeneidad en las varianzas\n",
      "\n",
      "Estadistico 15.919645386923577 y pvalor 6.608916704349897e-05\n",
      "probablemente NO homogeneidad en las varianzas\n",
      "----------------------------------------------------------------------\n",
      "----------------------------------------------------------------------\n",
      "Bartlett test para Estonia, H0 los datos tienen homogeneidad en las varianzas\n",
      "\n",
      "Estadistico 24.97889757879068 y pvalor 5.796123735133159e-07\n",
      "probablemente NO homogeneidad en las varianzas\n",
      "----------------------------------------------------------------------\n",
      "----------------------------------------------------------------------\n",
      "Bartlett test para France, H0 los datos tienen homogeneidad en las varianzas\n",
      "\n",
      "Estadistico 27.108414125998166 y pvalor 1.9235887416992228e-07\n",
      "probablemente NO homogeneidad en las varianzas\n",
      "----------------------------------------------------------------------\n",
      "----------------------------------------------------------------------\n",
      "Bartlett test para Georgia, H0 los datos tienen homogeneidad en las varianzas\n",
      "\n",
      "Estadistico 18.88599928535714 y pvalor 1.3876739286586268e-05\n",
      "probablemente NO homogeneidad en las varianzas\n",
      "----------------------------------------------------------------------\n",
      "----------------------------------------------------------------------\n",
      "Bartlett test para Germany, H0 los datos tienen homogeneidad en las varianzas\n",
      "\n",
      "Estadistico 22.1374923037241 y pvalor 2.538041664642065e-06\n",
      "probablemente NO homogeneidad en las varianzas\n",
      "----------------------------------------------------------------------\n",
      "----------------------------------------------------------------------\n",
      "Bartlett test para Greece, H0 los datos tienen homogeneidad en las varianzas\n",
      "\n",
      "Estadistico 38.14211908163463 y pvalor 6.577486665513411e-10\n",
      "probablemente NO homogeneidad en las varianzas\n",
      "----------------------------------------------------------------------\n",
      "----------------------------------------------------------------------\n",
      "Bartlett test para Hungary, H0 los datos tienen homogeneidad en las varianzas\n",
      "\n",
      "Estadistico 37.21546165417484 y pvalor 1.0577181358193716e-09\n",
      "probablemente NO homogeneidad en las varianzas\n",
      "----------------------------------------------------------------------\n",
      "----------------------------------------------------------------------\n",
      "Bartlett test para Ireland, H0 los datos tienen homogeneidad en las varianzas\n",
      "\n",
      "Estadistico 66.23436486494516 y pvalor 4.003710435951206e-16\n",
      "probablemente NO homogeneidad en las varianzas\n",
      "----------------------------------------------------------------------\n",
      "----------------------------------------------------------------------\n",
      "Bartlett test para Italy, H0 los datos tienen homogeneidad en las varianzas\n",
      "\n",
      "Estadistico 80.23288164583572 y pvalor 3.327830384087931e-19\n",
      "probablemente NO homogeneidad en las varianzas\n",
      "----------------------------------------------------------------------\n",
      "----------------------------------------------------------------------\n",
      "Bartlett test para Latvia, H0 los datos tienen homogeneidad en las varianzas\n",
      "\n",
      "Estadistico 82.93412711186784 y pvalor 8.48338378852218e-20\n",
      "probablemente NO homogeneidad en las varianzas\n",
      "----------------------------------------------------------------------\n",
      "----------------------------------------------------------------------\n",
      "Bartlett test para Lithuania, H0 los datos tienen homogeneidad en las varianzas\n",
      "\n",
      "Estadistico 88.10253164733152 y pvalor 6.2148034751039825e-21\n",
      "probablemente NO homogeneidad en las varianzas\n",
      "----------------------------------------------------------------------\n",
      "----------------------------------------------------------------------\n",
      "Bartlett test para Luxembourg, H0 los datos tienen homogeneidad en las varianzas\n",
      "\n",
      "Estadistico 93.10026708188153 y pvalor 4.971102930991774e-22\n",
      "probablemente NO homogeneidad en las varianzas\n",
      "----------------------------------------------------------------------\n",
      "----------------------------------------------------------------------\n",
      "Bartlett test para Moldova, H0 los datos tienen homogeneidad en las varianzas\n",
      "\n",
      "Estadistico 96.75810527672509 y pvalor 7.833625135454271e-23\n",
      "probablemente NO homogeneidad en las varianzas\n",
      "----------------------------------------------------------------------\n",
      "----------------------------------------------------------------------\n",
      "Bartlett test para Netherlands, H0 los datos tienen homogeneidad en las varianzas\n",
      "\n",
      "Estadistico 100.44505941704239 y pvalor 1.2172708541070965e-23\n",
      "probablemente NO homogeneidad en las varianzas\n",
      "----------------------------------------------------------------------\n",
      "----------------------------------------------------------------------\n",
      "Bartlett test para North Macedonia, H0 los datos tienen homogeneidad en las varianzas\n",
      "\n",
      "Estadistico 98.03947854447468 y pvalor 4.1012397504185996e-23\n",
      "probablemente NO homogeneidad en las varianzas\n",
      "----------------------------------------------------------------------\n",
      "----------------------------------------------------------------------\n",
      "Bartlett test para Poland, H0 los datos tienen homogeneidad en las varianzas\n",
      "\n",
      "Estadistico 102.51138960616831 y pvalor 4.288947192572711e-24\n",
      "probablemente NO homogeneidad en las varianzas\n",
      "----------------------------------------------------------------------\n",
      "----------------------------------------------------------------------\n",
      "Bartlett test para Portugal, H0 los datos tienen homogeneidad en las varianzas\n",
      "\n",
      "Estadistico 104.1702519072259 y pvalor 1.856572637140518e-24\n",
      "probablemente NO homogeneidad en las varianzas\n",
      "----------------------------------------------------------------------\n",
      "----------------------------------------------------------------------\n",
      "Bartlett test para Romania, H0 los datos tienen homogeneidad en las varianzas\n",
      "\n",
      "Estadistico 106.64895618609656 y pvalor 5.314400727318254e-25\n",
      "probablemente NO homogeneidad en las varianzas\n",
      "----------------------------------------------------------------------\n",
      "----------------------------------------------------------------------\n",
      "Bartlett test para Serbia, H0 los datos tienen homogeneidad en las varianzas\n",
      "\n",
      "Estadistico 119.76638831155694 y pvalor 7.116695305647977e-28\n",
      "probablemente NO homogeneidad en las varianzas\n",
      "----------------------------------------------------------------------\n",
      "----------------------------------------------------------------------\n",
      "Bartlett test para Slovakia, H0 los datos tienen homogeneidad en las varianzas\n",
      "\n",
      "Estadistico 124.02226128415634 y pvalor 8.33037531088952e-29\n",
      "probablemente NO homogeneidad en las varianzas\n",
      "----------------------------------------------------------------------\n",
      "----------------------------------------------------------------------\n",
      "Bartlett test para Slovenia, H0 los datos tienen homogeneidad en las varianzas\n",
      "\n",
      "Estadistico 130.3992060007176 y pvalor 3.351242410206087e-30\n",
      "probablemente NO homogeneidad en las varianzas\n",
      "----------------------------------------------------------------------\n",
      "----------------------------------------------------------------------\n",
      "Bartlett test para Spain, H0 los datos tienen homogeneidad en las varianzas\n",
      "\n",
      "Estadistico 175.12562654168767 y pvalor 5.620476388605642e-40\n",
      "probablemente NO homogeneidad en las varianzas\n",
      "----------------------------------------------------------------------\n",
      "----------------------------------------------------------------------\n",
      "Bartlett test para Sweden, H0 los datos tienen homogeneidad en las varianzas\n",
      "\n",
      "Estadistico 138.3844729391353 y pvalor 6.004907815608491e-32\n",
      "probablemente NO homogeneidad en las varianzas\n",
      "----------------------------------------------------------------------\n",
      "----------------------------------------------------------------------\n",
      "Bartlett test para Turkey, H0 los datos tienen homogeneidad en las varianzas\n",
      "\n",
      "Estadistico 134.82911528249795 y pvalor 3.598441199985169e-31\n",
      "probablemente NO homogeneidad en las varianzas\n",
      "----------------------------------------------------------------------\n",
      "----------------------------------------------------------------------\n",
      "Bartlett test para Ukraine, H0 los datos tienen homogeneidad en las varianzas\n",
      "\n",
      "Estadistico 125.62764519962633 y pvalor 3.7094553526048056e-29\n",
      "probablemente NO homogeneidad en las varianzas\n",
      "----------------------------------------------------------------------\n",
      "----------------------------------------------------------------------\n",
      "Bartlett test para United Kingdom, H0 los datos tienen homogeneidad en las varianzas\n",
      "\n",
      "Estadistico 130.8732383104749 y pvalor 2.6393361755798005e-30\n",
      "probablemente NO homogeneidad en las varianzas\n",
      "----------------------------------------------------------------------\n"
     ]
    }
   ],
   "source": [
    "check_homo_var_each_country(pivoted_gas, pivoted_electricity)"
   ]
  },
  {
   "cell_type": "markdown",
   "id": "c41c4df8-fea5-4e52-812d-2a7a3b5ba418",
   "metadata": {},
   "source": [
    "***Efectivamente, volvemos a obtener heterocedasticidad, diferencia de varianzas en las muestras, esto es un problema, deberíamos trabajar las muestras más a profundidad para intentar solventarla, pero se sale de scope.\n",
    "Vamos, aún así, a estudiar la correlación.***"
   ]
  },
  {
   "cell_type": "code",
   "execution_count": 280,
   "id": "7623ac41-d74b-4415-b2c5-a2099323b660",
   "metadata": {},
   "outputs": [],
   "source": [
    "def check_correlation_each_country(df1, df2):\n",
    "    group1 = np.array([])\n",
    "    group2 = np.array([])\n",
    "    for group in df1.columns:\n",
    "        group1 = np.append(group1, df1[group].values)\n",
    "        group2 = np.append(group2, df2[group].values)\n",
    "        \n",
    "        indxs1 = np.isnan(group1)\n",
    "        indxs2 = np.isnan(group2)\n",
    "        indxs = indxs1 | indxs2 # indices que tienen nan en alguno de los dos df\n",
    "\n",
    "        group1 = group1[~indxs]\n",
    "        group2 = group2[~indxs]\n",
    "    \n",
    "        stat, p = pearsonr(group1, group2)\n",
    "        print(f\"Test pearson para {group}, estadistico {stat} y pvalor {p}, H0 no estan correlacionadas\\n\")\n",
    "        if p < 0.05:\n",
    "            print(f\"Probablemente NO estan correlacionados\")\n",
    "        else:\n",
    "            print(f\"Probablemente SI esten correlacionados\")\n",
    "            "
   ]
  },
  {
   "cell_type": "code",
   "execution_count": 281,
   "id": "007fb026-a92f-417c-8e03-eabbddefd485",
   "metadata": {},
   "outputs": [
    {
     "name": "stdout",
     "output_type": "stream",
     "text": [
      "Test pearson para Austria, estadistico 0.845371068323818 y pvalor 0.07127402761509678, H0 no estan correlacionadas\n",
      "\n",
      "Probablemente SI esten correlacionados\n",
      "Test pearson para Belgium, estadistico 0.10983703213365414 y pvalor 0.7626092116466721, H0 no estan correlacionadas\n",
      "\n",
      "Probablemente SI esten correlacionados\n",
      "Test pearson para Bosnia and Herzegovina, estadistico 0.17972750265742504 y pvalor 0.5215576763339973, H0 no estan correlacionadas\n",
      "\n",
      "Probablemente SI esten correlacionados\n",
      "Test pearson para Bulgaria, estadistico 0.03969110130797798 y pvalor 0.8680472606214779, H0 no estan correlacionadas\n",
      "\n",
      "Probablemente SI esten correlacionados\n",
      "Test pearson para Croatia, estadistico 0.09655801836832324 y pvalor 0.6461275439071115, H0 no estan correlacionadas\n",
      "\n",
      "Probablemente SI esten correlacionados\n",
      "Test pearson para Czechia, estadistico 0.1070330077542502 y pvalor 0.5734656580929945, H0 no estan correlacionadas\n",
      "\n",
      "Probablemente SI esten correlacionados\n",
      "Test pearson para Denmark, estadistico 0.32926913448388684 y pvalor 0.05342336639497488, H0 no estan correlacionadas\n",
      "\n",
      "Probablemente SI esten correlacionados\n",
      "Test pearson para EU Area, estadistico 0.34884885671723004 y pvalor 0.027371765263910254, H0 no estan correlacionadas\n",
      "\n",
      "Probablemente NO estan correlacionados\n",
      "Test pearson para EU Country, estadistico 0.352600600833549 y pvalor 0.017519783852434266, H0 no estan correlacionadas\n",
      "\n",
      "Probablemente NO estan correlacionados\n",
      "Test pearson para Estonia, estadistico 0.40591687758966166 y pvalor 0.003447589877845323, H0 no estan correlacionadas\n",
      "\n",
      "Probablemente NO estan correlacionados\n",
      "Test pearson para France, estadistico 0.39786027127426865 y pvalor 0.002628949607816149, H0 no estan correlacionadas\n",
      "\n",
      "Probablemente NO estan correlacionados\n",
      "Test pearson para Georgia, estadistico 0.5446619100188149 y pvalor 6.828305061520844e-06, H0 no estan correlacionadas\n",
      "\n",
      "Probablemente NO estan correlacionados\n",
      "Test pearson para Germany, estadistico 0.5368738523807763 y pvalor 4.018864397349724e-06, H0 no estan correlacionadas\n",
      "\n",
      "Probablemente NO estan correlacionados\n",
      "Test pearson para Greece, estadistico 0.5641819868327069 y pvalor 3.6508282561000874e-07, H0 no estan correlacionadas\n",
      "\n",
      "Probablemente NO estan correlacionados\n",
      "Test pearson para Hungary, estadistico 0.5483915331470056 y pvalor 3.5203819445550243e-07, H0 no estan correlacionadas\n",
      "\n",
      "Probablemente NO estan correlacionados\n",
      "Test pearson para Ireland, estadistico 0.5218468697550063 y pvalor 6.903295748023087e-07, H0 no estan correlacionadas\n",
      "\n",
      "Probablemente NO estan correlacionados\n",
      "Test pearson para Italy, estadistico 0.5265028753436503 y pvalor 2.2717745537585754e-07, H0 no estan correlacionadas\n",
      "\n",
      "Probablemente NO estan correlacionados\n",
      "Test pearson para Latvia, estadistico 0.5329647460324982 y pvalor 6.384710847552133e-08, H0 no estan correlacionadas\n",
      "\n",
      "Probablemente NO estan correlacionados\n",
      "Test pearson para Lithuania, estadistico 0.5425506512299001 y pvalor 1.3515158090836495e-08, H0 no estan correlacionadas\n",
      "\n",
      "Probablemente NO estan correlacionados\n",
      "Test pearson para Luxembourg, estadistico 0.5457401212982221 y pvalor 4.306543873845531e-09, H0 no estan correlacionadas\n",
      "\n",
      "Probablemente NO estan correlacionados\n",
      "Test pearson para Moldova, estadistico 0.5496903637280637 y pvalor 1.2551812066563193e-09, H0 no estan correlacionadas\n",
      "\n",
      "Probablemente NO estan correlacionados\n",
      "Test pearson para Netherlands, estadistico 0.5332608624793453 y pvalor 2.0004400729517244e-09, H0 no estan correlacionadas\n",
      "\n",
      "Probablemente NO estan correlacionados\n",
      "Test pearson para North Macedonia, estadistico 0.45801141175391696 y pvalor 2.650131561907683e-07, H0 no estan correlacionadas\n",
      "\n",
      "Probablemente NO estan correlacionados\n",
      "Test pearson para Poland, estadistico 0.4592878049300589 y pvalor 1.3172950771686062e-07, H0 no estan correlacionadas\n",
      "\n",
      "Probablemente NO estan correlacionados\n",
      "Test pearson para Portugal, estadistico 0.4471694188056265 y pvalor 1.7141099899520709e-07, H0 no estan correlacionadas\n",
      "\n",
      "Probablemente NO estan correlacionados\n",
      "Test pearson para Romania, estadistico 0.4536104170110994 y pvalor 5.964375729631549e-08, H0 no estan correlacionadas\n",
      "\n",
      "Probablemente NO estan correlacionados\n",
      "Test pearson para Serbia, estadistico 0.43667747024043435 y pvalor 1.1913716221117234e-07, H0 no estan correlacionadas\n",
      "\n",
      "Probablemente NO estan correlacionados\n",
      "Test pearson para Slovakia, estadistico 0.43900653900985354 y pvalor 5.7677875536642705e-08, H0 no estan correlacionadas\n",
      "\n",
      "Probablemente NO estan correlacionados\n",
      "Test pearson para Slovenia, estadistico 0.4387461726381103 y pvalor 3.39066709286736e-08, H0 no estan correlacionadas\n",
      "\n",
      "Probablemente NO estan correlacionados\n",
      "Test pearson para Spain, estadistico 0.369728498662823 y pvalor 3.2173755292893473e-06, H0 no estan correlacionadas\n",
      "\n",
      "Probablemente NO estan correlacionados\n",
      "Test pearson para Sweden, estadistico 0.2521460028362418 y pvalor 0.0015503878409114694, H0 no estan correlacionadas\n",
      "\n",
      "Probablemente NO estan correlacionados\n",
      "Test pearson para Turkey, estadistico 0.27413483078256173 y pvalor 0.00045179839914571816, H0 no estan correlacionadas\n",
      "\n",
      "Probablemente NO estan correlacionados\n",
      "Test pearson para Ukraine, estadistico 0.27310465067688705 y pvalor 0.00038649595749785427, H0 no estan correlacionadas\n",
      "\n",
      "Probablemente NO estan correlacionados\n",
      "Test pearson para United Kingdom, estadistico 0.282540907419713 y pvalor 0.00018917062353675837, H0 no estan correlacionadas\n",
      "\n",
      "Probablemente NO estan correlacionados\n"
     ]
    }
   ],
   "source": [
    "check_correlation_each_country(pivoted_electricity, pivoted_gas)"
   ]
  },
  {
   "cell_type": "markdown",
   "id": "8660d929-d261-44cf-bacf-2790536695d8",
   "metadata": {},
   "source": [
    "***Tal y como se previó en el análisis visual rápido, se ha dado correlaciones en el gas y la electricidad para ciertos países, no obstante, seguimos teniendo heterocedasticidad en las muestras.***"
   ]
  },
  {
   "cell_type": "markdown",
   "id": "fbbd39c9-8103-4032-80a8-aa093c8f2b42",
   "metadata": {},
   "source": [
    "### Regresiones ###"
   ]
  },
  {
   "cell_type": "code",
   "execution_count": 282,
   "id": "7104e834-9986-43d3-ad4d-2dc458c6d929",
   "metadata": {},
   "outputs": [],
   "source": [
    "def plot_linear_regressions(electricity, gas):\n",
    "    elec_2017 = pd.concat([electricity[\"2017\"], gas[\"2017\"]], axis = 1, keys = [\"elect\", \"gas\"])\n",
    "    elec_2018 = pd.concat([electricity[\"2018\"], gas[\"2018\"]], axis = 1, keys = [\"elect\", \"gas\"])\n",
    "    elec_2019 = pd.concat([electricity[\"2019\"], gas[\"2019\"]], axis = 1, keys = [\"elect\", \"gas\"])\n",
    "    elec_2020 = pd.concat([electricity[\"2020\"], gas[\"2020\"]], axis = 1, keys = [\"elect\", \"gas\"])\n",
    "    elec_2021 = pd.concat([electricity[\"2021\"], gas[\"2021\"]], axis = 1, keys = [\"elect\", \"gas\"])\n",
    "\n",
    "    fig, axs = plt.subplots(6, 1, figsize=(5, 27), sharex=True)\n",
    "\n",
    "    fig.suptitle(\"Regresiones lineales desde 2017 hasta 2021 (en orden) en el precio del gas y de la electricidad\")\n",
    "    sns.regplot(x = \"elect\", y = \"gas\", data = elec_2017, ax = axs[0])\n",
    "    sns.regplot(x = \"elect\", y = \"gas\", data = elec_2018, ax = axs[1])\n",
    "    sns.regplot(x = \"elect\", y = \"gas\", data = elec_2019, ax = axs[2])\n",
    "    sns.regplot(x = \"elect\", y = \"gas\", data = elec_2020, ax = axs[3])\n",
    "    sns.regplot(x = \"elect\", y = \"gas\", data = elec_2021, ax = axs[4])\n",
    "    \n",
    "    years = [\"2017\", \"2018\", \"2019\", \"2020\", \"2021\"]\n",
    "    d1 = np.array([])\n",
    "    d2 = np.array([])\n",
    "    for d in years:\n",
    "        d1 = np.append(d1, electricity[d].values)\n",
    "        d2 = np.append(d2, gas[d].values)\n",
    "    sns.regplot(x = d1, y = d2, data = elec_2021, ax = axs[5])\n",
    "\n",
    "    axs[0].set_title(\"2017\")\n",
    "    axs[1].set_title(\"2018\")\n",
    "    axs[2].set_title(\"2019\")\n",
    "    axs[3].set_title(\"2020\")\n",
    "    axs[4].set_title(\"2021\")\n",
    "    axs[5].set_title(\"Global\")\n",
    "\n"
   ]
  },
  {
   "cell_type": "code",
   "execution_count": 283,
   "id": "04603559-4a47-41fa-a726-8bbe6485595d",
   "metadata": {},
   "outputs": [
    {
     "data": {
      "image/png": "[encoded data removed]",
      "text/plain": [
       "<Figure size 360x1944 with 6 Axes>"
      ]
     },
     "metadata": {},
     "output_type": "display_data"
    }
   ],
   "source": [
    "plot_linear_regressions(electricity, gas)"
   ]
  },
  {
   "cell_type": "markdown",
   "id": "a596b39d-f23e-4ac3-921b-a6be57b3a413",
   "metadata": {},
   "source": [
    "***Tal y como vemos los regresores lineales, no generan un buen comportamiento, ni anual ni global, dentro de lo esperado por los problemas tanto generales como por país, de normalidad y heterocedasticidad. Realizar los regresores por país, carece de lógica por la poca cuantía de la muestra.***"
   ]
  },
  {
   "cell_type": "markdown",
   "id": "0446408d-d645-4c5b-a275-c8e8edc366cb",
   "metadata": {},
   "source": [
    "# Conclusiones\n",
    "\n",
    "Ha quedado demostrado que la muestra a nivel de regresores, y por lo tanto uso para predicciones, no es recomendable, al menos con el tamaño y calidad actuales.\n",
    "Tenemos que tener en cuenta, que es tremendamente poder tener cifras exactas de todos los países de la UE historicamente, con un tamaño reseñable para conseguir estos objetivos, pues la digitalización de estos sectores, en algunos países es reciente.\n",
    "Así mismo, hemos podido comprobar que si existe correlación entre los precios de Gas y Electricidad en los países pertenecientes a la Zona Euro, pero no para la Comunidad de Países de la Eurozona,y además ambas muestras se comportan dentro de la normal."
   ]
  }
 ],
 "metadata": {
  "kernelspec": {
   "display_name": "Python 3 (ipykernel)",
   "language": "python",
   "name": "python3"
  },
  "language_info": {
   "codemirror_mode": {
    "name": "ipython",
    "version": 3
   },
   "file_extension": ".py",
   "mimetype": "text/x-python",
   "name": "python",
   "nbconvert_exporter": "python",
   "pygments_lexer": "ipython3",
   "version": "3.10.4"
  }
 },
 "nbformat": 4,
 "nbformat_minor": 5
}
